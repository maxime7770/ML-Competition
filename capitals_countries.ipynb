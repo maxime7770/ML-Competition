{
 "cells": [
  {
   "cell_type": "code",
   "execution_count": 2,
   "metadata": {},
   "outputs": [],
   "source": [
    "from sklearn.utils import class_weight\n",
    "from xgboost import XGBClassifier, cv\n",
    "import geopandas as gpd\n",
    "import pandas as pd\n",
    "from sklearn.preprocessing import LabelEncoder\n",
    "import numpy as np\n",
    "from sklearn import model_selection\n",
    "from sklearn.metrics import roc_auc_score\n",
    "from sklearn import preprocessing\n",
    "from sklearn.metrics import classification_report\n",
    "from sklearn.model_selection import train_test_split\n",
    "from sklearn.model_selection import StratifiedKFold\n",
    "from sklearn.model_selection import cross_val_score\n",
    "from sklearn.model_selection import cross_val_predict\n",
    "from sklearn.model_selection import GridSearchCV\n",
    "\n",
    "from sklearn.metrics import accuracy_score\n",
    "from sklearn.metrics import f1_score\n",
    "import xgboost\n",
    "from joblib import dump, load\n",
    "from datetime import datetime"
   ]
  },
  {
   "cell_type": "code",
   "execution_count": 49,
   "metadata": {},
   "outputs": [],
   "source": [
    "train_df = gpd.read_file(\"train.geojson\", index_col=0)\n",
    "test_df = gpd.read_file(\"test.geojson\", index_col=0)"
   ]
  },
  {
   "cell_type": "code",
   "execution_count": 5,
   "metadata": {},
   "outputs": [
    {
     "name": "stdout",
     "output_type": "stream",
     "text": [
      "0       12.453387\n",
      "1       12.441770\n",
      "2        9.516669\n",
      "3        6.130003\n",
      "4      158.149974\n",
      "          ...    \n",
      "197     31.248022\n",
      "198    139.749462\n",
      "199      2.331389\n",
      "200    -70.668987\n",
      "201    103.853875\n",
      "Length: 202, dtype: float64\n"
     ]
    },
    {
     "data": {
      "image/png": "[encoded data removed]",
      "text/plain": [
       "<Figure size 432x288 with 1 Axes>"
      ]
     },
     "metadata": {
      "needs_background": "light"
     },
     "output_type": "display_data"
    }
   ],
   "source": [
    "capitals = gpd.read_file(gpd.datasets.get_path('naturalearth_cities'))\n",
    "capitals.plot()\n",
    "print(capitals['geometry'].x)"
   ]
  },
  {
   "cell_type": "code",
   "execution_count": 6,
   "metadata": {},
   "outputs": [],
   "source": [
    "def d(x,y):\n",
    "    return np.sqrt((x[0]-y[0])**2+(x[1]-y[1])**2)\n",
    "\n",
    "def min_dist(point,list):\n",
    "    list.sort(key=lambda x:d(point,x))    \n",
    "    return d(list[0],point)\n",
    "\n",
    "X,Y=capitals['geometry'].x,capitals['geometry'].y \n",
    "capitals=[[X.iloc[i],Y.iloc[i]] for i in range(len(capitals))]\n",
    "\n",
    "def build_dist(df):\n",
    "    centroids_x=df.centroid.x\n",
    "    centroids_y=df.centroid.y\n",
    "    new_df=[]\n",
    "    for i in range(len(df)):\n",
    "        centroid=[centroids_x.iloc[i],centroids_y.iloc[i]]\n",
    "        min_distance=min_dist(centroid,capitals)\n",
    "        dic={}\n",
    "        dic['dist_to_capitals']=min_distance\n",
    "        new_df.append(dic)\n",
    "    return new_df\n",
    "\n"
   ]
  },
  {
   "cell_type": "code",
   "execution_count": 7,
   "metadata": {},
   "outputs": [],
   "source": [
    "new_df_train=pd.DataFrame(build_dist(train_df))\n",
    "new_df_train.to_csv('dist_to_capitals_train.csv')"
   ]
  },
  {
   "cell_type": "code",
   "execution_count": 9,
   "metadata": {},
   "outputs": [],
   "source": [
    "new_df_test=pd.DataFrame(build_dist(test_df))\n",
    "new_df_test.to_csv('dist_to_capitals_test.csv')"
   ]
  },
  {
   "cell_type": "code",
   "execution_count": 50,
   "metadata": {},
   "outputs": [
    {
     "data": {
      "text/html": [
       "<div>\n",
       "<style scoped>\n",
       "    .dataframe tbody tr th:only-of-type {\n",
       "        vertical-align: middle;\n",
       "    }\n",
       "\n",
       "    .dataframe tbody tr th {\n",
       "        vertical-align: top;\n",
       "    }\n",
       "\n",
       "    .dataframe thead th {\n",
       "        text-align: right;\n",
       "    }\n",
       "</style>\n",
       "<table border=\"1\" class=\"dataframe\">\n",
       "  <thead>\n",
       "    <tr style=\"text-align: right;\">\n",
       "      <th></th>\n",
       "      <th>pop_est</th>\n",
       "      <th>continent</th>\n",
       "      <th>name</th>\n",
       "      <th>iso_a3</th>\n",
       "      <th>gdp_md_est</th>\n",
       "      <th>geometry</th>\n",
       "    </tr>\n",
       "  </thead>\n",
       "  <tbody>\n",
       "    <tr>\n",
       "      <th>0</th>\n",
       "      <td>920938</td>\n",
       "      <td>Oceania</td>\n",
       "      <td>Fiji</td>\n",
       "      <td>FJI</td>\n",
       "      <td>8374.0</td>\n",
       "      <td>MULTIPOLYGON (((180.00000 -16.06713, 180.00000...</td>\n",
       "    </tr>\n",
       "    <tr>\n",
       "      <th>1</th>\n",
       "      <td>53950935</td>\n",
       "      <td>Africa</td>\n",
       "      <td>Tanzania</td>\n",
       "      <td>TZA</td>\n",
       "      <td>150600.0</td>\n",
       "      <td>POLYGON ((33.90371 -0.95000, 34.07262 -1.05982...</td>\n",
       "    </tr>\n",
       "    <tr>\n",
       "      <th>2</th>\n",
       "      <td>603253</td>\n",
       "      <td>Africa</td>\n",
       "      <td>W. Sahara</td>\n",
       "      <td>ESH</td>\n",
       "      <td>906.5</td>\n",
       "      <td>POLYGON ((-8.66559 27.65643, -8.66512 27.58948...</td>\n",
       "    </tr>\n",
       "    <tr>\n",
       "      <th>3</th>\n",
       "      <td>35623680</td>\n",
       "      <td>North America</td>\n",
       "      <td>Canada</td>\n",
       "      <td>CAN</td>\n",
       "      <td>1674000.0</td>\n",
       "      <td>MULTIPOLYGON (((-122.84000 49.00000, -122.9742...</td>\n",
       "    </tr>\n",
       "    <tr>\n",
       "      <th>4</th>\n",
       "      <td>326625791</td>\n",
       "      <td>North America</td>\n",
       "      <td>United States of America</td>\n",
       "      <td>USA</td>\n",
       "      <td>18560000.0</td>\n",
       "      <td>MULTIPOLYGON (((-122.84000 49.00000, -120.0000...</td>\n",
       "    </tr>\n",
       "  </tbody>\n",
       "</table>\n",
       "</div>"
      ],
      "text/plain": [
       "     pop_est      continent                      name iso_a3  gdp_md_est  \\\n",
       "0     920938        Oceania                      Fiji    FJI      8374.0   \n",
       "1   53950935         Africa                  Tanzania    TZA    150600.0   \n",
       "2     603253         Africa                 W. Sahara    ESH       906.5   \n",
       "3   35623680  North America                    Canada    CAN   1674000.0   \n",
       "4  326625791  North America  United States of America    USA  18560000.0   \n",
       "\n",
       "                                            geometry  \n",
       "0  MULTIPOLYGON (((180.00000 -16.06713, 180.00000...  \n",
       "1  POLYGON ((33.90371 -0.95000, 34.07262 -1.05982...  \n",
       "2  POLYGON ((-8.66559 27.65643, -8.66512 27.58948...  \n",
       "3  MULTIPOLYGON (((-122.84000 49.00000, -122.9742...  \n",
       "4  MULTIPOLYGON (((-122.84000 49.00000, -120.0000...  "
      ]
     },
     "execution_count": 50,
     "metadata": {},
     "output_type": "execute_result"
    },
    {
     "data": {
      "image/png": "[encoded data removed]",
      "text/plain": [
       "<Figure size 432x288 with 1 Axes>"
      ]
     },
     "metadata": {
      "needs_background": "light"
     },
     "output_type": "display_data"
    }
   ],
   "source": [
    "countries=gpd.read_file(gpd.datasets.get_path('naturalearth_lowres'))\n",
    "countries.plot()\n",
    "countries.head()"
   ]
  },
  {
   "cell_type": "code",
   "execution_count": 51,
   "metadata": {},
   "outputs": [
    {
     "name": "stdout",
     "output_type": "stream",
     "text": [
      "  country\n",
      "0   China\n",
      "1   China\n",
      "2   China\n",
      "3   China\n",
      "4   China\n",
      "  country\n",
      "0   China\n",
      "1   China\n",
      "2   China\n",
      "3   China\n",
      "4   China\n"
     ]
    }
   ],
   "source": [
    "countries_geom=countries['geometry']\n",
    "countries_name=countries['name']\n",
    "def find_country(df):\n",
    "    polygons=df['geometry']\n",
    "    new_df=[]\n",
    "    for i in range(len(df)):\n",
    "        dic={}\n",
    "        for j in range(len(countries)):\n",
    "                if countries_geom.iloc[j].contains(polygons.iloc[i]):\n",
    "                    dic['country']=countries_name.iloc[j]\n",
    "                    new_df.append(dic)\n",
    "                    break\n",
    "    return new_df\n",
    "\n",
    "new_df_train=pd.DataFrame(find_country(train_df))\n",
    "new_df_test=pd.DataFrame(find_country(test_df))\n",
    "print(new_df_test.head())\n",
    "print(new_df_train.head())\n",
    "\n",
    "\n"
   ]
  },
  {
   "cell_type": "code",
   "execution_count": 52,
   "metadata": {},
   "outputs": [],
   "source": [
    "new_df_train = pd.concat(\n",
    "    [new_df_train, new_df_train[\"country\"].str.get_dummies()], axis=1\n",
    ")\n",
    "new_df_test = pd.concat(\n",
    "    [new_df_test, new_df_test[\"country\"].str.get_dummies()], axis=1\n",
    ")\n",
    "\n",
    "\n",
    "new_df_train=new_df_train.drop('country',axis=1)\n",
    "new_df_test=new_df_test.drop('country',axis=1)\n",
    "\n",
    "\n",
    "new_df_train.to_csv('countries_train.csv')\n",
    "new_df_test.to_csv('countries_test.csv')"
   ]
  },
  {
   "cell_type": "code",
   "execution_count": 53,
   "metadata": {},
   "outputs": [
    {
     "name": "stdout",
     "output_type": "stream",
     "text": [
      "['Dem. Rep. Congo', 'Ethiopia', 'Japan', 'Palestine', 'Saudi Arabia']\n",
      "['Bhutan', 'Italy', 'Mongolia', 'Russia']\n"
     ]
    }
   ],
   "source": [
    "new_df_train=pd.read_csv('countries_train.csv',index_col=0)\n",
    "new_df_test=pd.read_csv('countries_test.csv',index_col=0)\n",
    "\n",
    "missing_test=[x for x in new_df_train.columns if x not in new_df_test.columns]\n",
    "missing_train=[x for x in new_df_test.columns if x not in new_df_train.columns]\n",
    "print(missing_test)\n",
    "print(missing_train)\n",
    "aug=list()\n",
    "for i in range(len(new_df_train)):\n",
    "    dic={}\n",
    "    for c in missing_train:\n",
    "        dic[c]=0\n",
    "    aug.append(dic)\n",
    "aug_train=pd.DataFrame(aug)\n",
    "\n",
    "aug=list()\n",
    "for i in range(len(new_df_test)):\n",
    "    dic={}\n",
    "    for c in missing_test:\n",
    "        dic[c]=0\n",
    "    aug.append(dic)\n",
    "aug_test=pd.DataFrame(aug)\n",
    "\n",
    "new_df_train=pd.concat([new_df_train,aug_train],axis=1)\n",
    "new_df_test=pd.concat([new_df_test,aug_test],axis=1)\n",
    "\n",
    "\n",
    "new_df_train.to_csv('countries_train.csv')\n",
    "new_df_test.to_csv('countries_test.csv')"
   ]
  },
  {
   "cell_type": "code",
   "execution_count": 54,
   "metadata": {},
   "outputs": [
    {
     "name": "stdout",
     "output_type": "stream",
     "text": [
      "Index(['Algeria', 'Angola', 'Australia', 'Bangladesh', 'Canada', 'China',\n",
      "       'Côte d'Ivoire', 'Dem. Rep. Congo', 'Egypt', 'Ethiopia', 'France',\n",
      "       'India', 'Israel', 'Japan', 'Kenya', 'Laos', 'Mexico', 'Palestine',\n",
      "       'Qatar', 'Saudi Arabia', 'South Africa', 'Sweden', 'Tanzania',\n",
      "       'United Arab Emirates', 'United States of America', 'Vietnam', 'Bhutan',\n",
      "       'Italy', 'Mongolia', 'Russia'],\n",
      "      dtype='object')\n",
      "Index(['Algeria', 'Angola', 'Australia', 'Bangladesh', 'Bhutan', 'Canada',\n",
      "       'China', 'Côte d'Ivoire', 'Egypt', 'France', 'India', 'Israel', 'Italy',\n",
      "       'Kenya', 'Laos', 'Mexico', 'Mongolia', 'Qatar', 'Russia',\n",
      "       'South Africa', 'Sweden', 'Tanzania', 'United Arab Emirates',\n",
      "       'United States of America', 'Vietnam', 'Dem. Rep. Congo', 'Ethiopia',\n",
      "       'Japan', 'Palestine', 'Saudi Arabia'],\n",
      "      dtype='object')\n",
      "(308511, 30) (120580, 30)\n"
     ]
    }
   ],
   "source": [
    "print(new_df_train.columns)\n",
    "print(new_df_test.columns)\n",
    "print(new_df_train.shape,new_df_test.shape)\n",
    "\n"
   ]
  }
 ],
 "metadata": {
  "interpreter": {
   "hash": "20a7c71c4fb3c8fb83f4d3df636db960b7a7bb31316d81e0785e5cd14ad32ba2"
  },
  "kernelspec": {
   "display_name": "Python 3.8.12 64-bit ('py38gpu': conda)",
   "language": "python",
   "name": "python3"
  },
  "language_info": {
   "codemirror_mode": {
    "name": "ipython",
    "version": 3
   },
   "file_extension": ".py",
   "mimetype": "text/x-python",
   "name": "python",
   "nbconvert_exporter": "python",
   "pygments_lexer": "ipython3",
   "version": "3.8.12"
  },
  "orig_nbformat": 4
 },
 "nbformat": 4,
 "nbformat_minor": 2
}
