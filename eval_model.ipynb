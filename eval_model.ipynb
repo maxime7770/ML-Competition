{
 "cells": [
  {
   "cell_type": "code",
   "execution_count": 245,
   "metadata": {},
   "outputs": [
    {
     "name": "stdout",
     "output_type": "stream",
     "text": [
      "The autoreload extension is already loaded. To reload it, use:\n",
      "  %reload_ext autoreload\n"
     ]
    }
   ],
   "source": [
    "%load_ext autoreload\n",
    "%autoreload 2"
   ]
  },
  {
   "cell_type": "code",
   "execution_count": 246,
   "metadata": {},
   "outputs": [],
   "source": [
    "import pandas as pd\n",
    "import geopandas as gpd\n",
    "import xgboost\n",
    "import sys\n",
    "from sklearn.preprocessing import LabelEncoder\n",
    "import numpy as np\n",
    "from math import * \n",
    "from tqdm import tqdm\n",
    "from sklearn import model_selection\n",
    "from sklearn.metrics import roc_auc_score\n",
    "from sklearn import preprocessing\n",
    "from sklearn.metrics import classification_report\n",
    "from sklearn.model_selection import train_test_split\n",
    "from sklearn.model_selection import StratifiedKFold\n",
    "from sklearn.model_selection import cross_val_score\n",
    "from sklearn.metrics import accuracy_score\n",
    "from sklearn.ensemble import RandomForestClassifier, GradientBoostingClassifier\n",
    "from sklearn.metrics import f1_score\n",
    "from sklearn.cluster import DBSCAN, OPTICS\n",
    "from xgboost import XGBClassifier\n",
    "from sklearn.preprocessing import PolynomialFeatures\n",
    "\n",
    "import json\n",
    "import matplotlib.pyplot as plt\n",
    "import matplotlib as mpl\n",
    "mpl.rcParams['figure.dpi'] = 100\n",
    "plt.style.use('dark_background')\n",
    "\n",
    "from utils import plot_cluster, load_list, save_list, load_data, load_data_test\n"
   ]
  },
  {
   "cell_type": "code",
   "execution_count": 279,
   "metadata": {},
   "outputs": [
    {
     "name": "stdout",
     "output_type": "stream",
     "text": [
      "Loading data...\n",
      "X_train and Y_train loaded.\n",
      "Datas containing NA loaded: 0\n"
     ]
    }
   ],
   "source": [
    "X, Y = load_data(add_knn_mean=True,\n",
    "                 add_knn_concat=False,\n",
    "                 add_polynomial=False,\n",
    "                 n_data_max=9999999999,\n",
    "                 shuffle = False)\n",
    "\n",
    "# X_target = load_data_test(add_knn_mean=True,\n",
    "#                  add_knn_concat=False,\n",
    "#                  n_data_max=99999999,\n",
    "#                  shuffle = False)\n",
    "\n",
    "print(f'Datas containing NA loaded: {len(X[X.isna().any(axis = 1)])}')\n"
   ]
  },
  {
   "cell_type": "code",
   "execution_count": 281,
   "metadata": {},
   "outputs": [
    {
     "name": "stdout",
     "output_type": "stream",
     "text": [
      "(309736, 93)\n",
      "(309736,)\n"
     ]
    }
   ],
   "source": [
    "print(X.shape)\n",
    "print(Y.shape)"
   ]
  },
  {
   "cell_type": "code",
   "execution_count": 282,
   "metadata": {},
   "outputs": [
    {
     "name": "stdout",
     "output_type": "stream",
     "text": [
      "Fitting...\n",
      "Train score: 0.7851846531411517\n",
      "Test score: 0.7107621310961637\n",
      "\n",
      "Train score: 0.8153188278207226\n",
      "Test score: 0.7450656541308742\n",
      "\n",
      "Train score: 0.8278571140854215\n",
      "Test score: 0.757269096064369\n",
      "\n",
      "Train score: 0.8356031364996643\n",
      "Test score: 0.7631176955160505\n",
      "\n"
     ]
    }
   ],
   "source": [
    "\n",
    "# xgb = XGBClassifier()\n",
    "\n",
    "X_train, X_test, Y_train, Y_test = train_test_split(X, Y, test_size = 0.2, random_state = 22)\n",
    "\n",
    "print('Fitting...')\n",
    "L_n = [2, 5, 10, 20, 50, 100, 200, 400]\n",
    "L_d = [2, 3, 4, 5, 10]\n",
    "average = 'weighted'\n",
    "L_train_score = list()\n",
    "L_test_score = list()\n",
    "L = list()\n",
    "\n",
    "for n in L_n:\n",
    "        model = RandomForestClassifier(n_estimators=n,\n",
    "                            max_depth=15,\n",
    "                            min_samples_leaf=1,\n",
    "                            min_samples_split=2,\n",
    "                                )\n",
    "        # model = GradientBoostingClassifier(n_estimators=n, \n",
    "        #                         )\n",
    "        # model = XGBClassifier( \n",
    "        #                 n_estimators = n,\n",
    "        #         #       scale_pos_weight=1,\n",
    "        #         #       learning_rate=0.01,  \n",
    "        #         #       colsample_bytree = 0.4,\n",
    "        #         #       subsample = 0.8,\n",
    "        #         #       objective='binary:logistic', \n",
    "        #         #       reg_alpha = 0.3,\n",
    "        #         #       max_depth=4, \n",
    "        #         #       gamma=10,\n",
    "        #                 use_label_encoder=False,\n",
    "        #               )\n",
    "        \n",
    "        eval_set = [(X_train, Y_train), (X_test, Y_test)]\n",
    "        eval_metric = [\"error\"]\n",
    "        model.fit(X_train, Y_train, \n",
    "                # eval_metric=eval_metric, \n",
    "                # eval_set=eval_set, \n",
    "                # verbose=False\n",
    "                  )\n",
    "        \n",
    "        Y_pred          = model.predict(X_test)\n",
    "        Y_pred_train    = model.predict(X_train)\n",
    "        score_train = f1_score(Y_train, Y_pred_train, average = average)\n",
    "        score_test = f1_score(Y_test, Y_pred, average = average)\n",
    "        L_train_score.append(score_train)\n",
    "        L_test_score.append(score_test)\n",
    "        L.append(n)\n",
    "        print(f\"Train score: {score_train}\")\n",
    "        print(f\"Test score: {score_test}\")\n",
    "        print()\n",
    "        plt.clf()\n",
    "        plt.plot(L, L_train_score, 'r')\n",
    "        plt.plot(L, L_test_score, 'b')\n",
    "        plt.ylim(bottom = 0, top = 1)\n",
    "\n"
   ]
  },
  {
   "cell_type": "code",
   "execution_count": 271,
   "metadata": {},
   "outputs": [
    {
     "name": "stdout",
     "output_type": "stream",
     "text": [
      "Importance of change_status_date5: 8.1%\n",
      "Importance of centroid_x: 7.9%\n",
      "Importance of knn_mean_centroid_x: 6.800000000000001%\n",
      "Importance of knn_mean_elongation: 5.0%\n",
      "Importance of centroid_y: 4.9%\n",
      "Importance of change_status_date1: 4.8%\n",
      "Importance of knn_mean_centroid_dist: 4.5%\n",
      "Importance of knn_mean_area/length**2: 3.8%\n",
      "Importance of knn_mean_height: 3.5000000000000004%\n",
      "Importance of knn_mean_length: 3.3000000000000003%\n",
      "Importance of change_status_date2: 3.3000000000000003%\n",
      "Importance of centroid_dist: 3.2%\n",
      "Importance of area/length**2: 3.1%\n",
      "Importance of knn_mean_length/width: 2.9000000000000004%\n",
      "Importance of knn_mean_width: 2.8000000000000003%\n",
      "Importance of length: 2.5%\n",
      "Importance of change_status_date4: 2.3%\n",
      "Importance of height: 2.1%\n",
      "Importance of width: 1.7999999999999998%\n",
      "Importance of Unnamed: 0: 1.7999999999999998%\n",
      "Importance of change_status_date3: 1.6%\n",
      "Importance of knn_mean_diff2: 1.6%\n",
      "Importance of elongation: 1.4000000000000001%\n",
      "Importance of diff2: 1.4000000000000001%\n",
      "Importance of knn_mean_diff4: 1.2%\n",
      "Importance of diff4: 1.2%\n",
      "Importance of diff3: 1.2%\n",
      "Importance of knn_mean_diff3: 1.0999999999999999%\n",
      "Importance of knn_mean_diff1: 1.0%\n",
      "Importance of knn_mean_Industrial: 1.0%\n",
      "Importance of diff1: 0.8999999999999999%\n",
      "Importance of length/width: 0.8%\n",
      "Importance of year_date1: 0.6%\n",
      "Importance of knn_mean_year_date1: 0.5%\n",
      "Importance of knn_mean_nb_points: 0.5%\n",
      "Importance of year_date2: 0.4%\n",
      "Importance of knn_mean_year_date5: 0.4%\n",
      "Importance of year_date4: 0.4%\n",
      "Importance of year_date5: 0.3%\n",
      "Importance of knn_mean_year_date4: 0.3%\n",
      "Importance of knn_mean_year_date2: 0.3%\n",
      "Importance of nb_points: 0.3%\n",
      "Importance of Industrial: 0.3%\n",
      "Importance of knn_mean_Dense Urban: 0.2%\n",
      "Importance of knn_mean_Farms: 0.2%\n",
      "Importance of knn_mean_Barren Land: 0.2%\n",
      "Importance of knn_mean_Dense Forest: 0.2%\n",
      "Importance of knn_mean_Sparse Forest: 0.2%\n",
      "Importance of year_date3: 0.2%\n",
      "Importance of knn_mean_Grass Land: 0.2%\n",
      "Importance of knn_mean_Sparse Urban: 0.2%\n",
      "Importance of knn_mean_year_date3: 0.1%\n",
      "Importance of knn_mean_Lakes: 0.1%\n",
      "Importance of knn_mean_Desert: 0.1%\n",
      "Importance of knn_mean_River: 0.1%\n",
      "Importance of is_convex: 0.1%\n",
      "Importance of Dense Urban: 0.1%\n",
      "Importance of knn_mean_Rural: 0.1%\n",
      "Importance of knn_mean_None: 0.1%\n",
      "Importance of Farms: 0.1%\n",
      "Importance of Sparse Forest: 0.0%\n",
      "Importance of Dense Forest: 0.0%\n",
      "Importance of area: 0.0%\n",
      "Importance of Barren Land: 0.0%\n",
      "Importance of knn_mean_Coastal: 0.0%\n",
      "Importance of Sparse Urban: 0.0%\n",
      "Importance of Grass Land: 0.0%\n",
      "Importance of Lakes: 0.0%\n",
      "Importance of diff_area: 0.0%\n",
      "Importance of None: 0.0%\n",
      "Importance of River: 0.0%\n",
      "Importance of knn_mean_Urban Slum: 0.0%\n",
      "Importance of Desert: 0.0%\n",
      "Importance of Coastal: 0.0%\n",
      "Importance of knn_mean_None.1: 0.0%\n",
      "Importance of Rural: 0.0%\n",
      "Importance of knn_mean_Hills: 0.0%\n",
      "Importance of knn_mean_area: 0.0%\n",
      "Importance of None.1: 0.0%\n",
      "Importance of Urban Slum: 0.0%\n",
      "Importance of Hills: 0.0%\n",
      "Importance of season_date1: 0.0%\n",
      "Importance of season_date2: 0.0%\n",
      "Importance of season_date3: 0.0%\n",
      "Importance of season_date4: 0.0%\n",
      "Importance of season_date5: 0.0%\n",
      "Importance of Snow: 0.0%\n",
      "Importance of knn_mean_Snow: 0.0%\n",
      "Importance of knn_mean_season_date1: 0.0%\n",
      "Importance of knn_mean_season_date2: 0.0%\n",
      "Importance of knn_mean_season_date3: 0.0%\n",
      "Importance of knn_mean_season_date4: 0.0%\n",
      "Importance of knn_mean_season_date5: 0.0%\n"
     ]
    }
   ],
   "source": [
    "importances = model.feature_importances_\n",
    "for feature, imp in sorted(zip(X_train.columns, importances), key = lambda x: -x[1]):\n",
    "    print(f'Importance of {feature}: {100*round(imp, 3)}%')"
   ]
  },
  {
   "cell_type": "code",
   "execution_count": 15,
   "metadata": {},
   "outputs": [],
   "source": [
    "Y_pred2submit = model.predict(X_target)\n",
    "\n",
    "# Save results to submission file\n",
    "pred_df = pd.DataFrame(Y_pred2submit, columns=['change_type'])\n",
    "pred_df.to_csv(\"submission.csv\", index=True, index_label='Id')"
   ]
  },
  {
   "cell_type": "code",
   "execution_count": 33,
   "metadata": {},
   "outputs": [],
   "source": [
    "test_df_origin = gpd.read_file(\"test.geojson\", index_col=0) "
   ]
  },
  {
   "cell_type": "code",
   "execution_count": 119,
   "metadata": {},
   "outputs": [
    {
     "data": {
      "image/png": "[encoded data removed]",
      "text/plain": [
       "<Figure size 600x400 with 1 Axes>"
      ]
     },
     "metadata": {},
     "output_type": "display_data"
    }
   ],
   "source": [
    "plot_cluster(X)"
   ]
  },
  {
   "cell_type": "code",
   "execution_count": 118,
   "metadata": {},
   "outputs": [],
   "source": [
    "def compress_outliers_on_test(X):\n",
    "    X[46053:47903]['centroid_y'] = (X[46053:47903]['centroid_y'] - 60) / (60/0.03) + 30\n",
    "    return X"
   ]
  },
  {
   "cell_type": "code",
   "execution_count": null,
   "metadata": {},
   "outputs": [],
   "source": []
  }
 ],
 "metadata": {
  "interpreter": {
   "hash": "7e016cbfee4a4a9f8ad68d1216e5f03d3845a8636147ff93c078e6684dcfe1d3"
  },
  "kernelspec": {
   "display_name": "Python 3.9.7 64-bit",
   "language": "python",
   "name": "python3"
  },
  "language_info": {
   "codemirror_mode": {
    "name": "ipython",
    "version": 3
   },
   "file_extension": ".py",
   "mimetype": "text/x-python",
   "name": "python",
   "nbconvert_exporter": "python",
   "pygments_lexer": "ipython3",
   "version": "3.9.7"
  },
  "orig_nbformat": 4
 },
 "nbformat": 4,
 "nbformat_minor": 2
}
