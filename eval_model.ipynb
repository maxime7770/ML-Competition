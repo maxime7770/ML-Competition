{
 "cells": [
  {
   "cell_type": "code",
   "execution_count": 51,
   "metadata": {},
   "outputs": [],
   "source": [
    "import pandas as pd\n",
    "import geopandas as gpd\n",
    "import xgboost\n",
    "import sys\n",
    "from sklearn.preprocessing import LabelEncoder\n",
    "import numpy as np\n",
    "from math import * \n",
    "from tqdm import tqdm\n",
    "from sklearn import model_selection\n",
    "from sklearn.metrics import roc_auc_score\n",
    "from sklearn import preprocessing\n",
    "from sklearn.metrics import classification_report\n",
    "from sklearn.model_selection import train_test_split\n",
    "from sklearn.model_selection import StratifiedKFold\n",
    "from sklearn.model_selection import cross_val_score\n",
    "from sklearn.metrics import accuracy_score\n",
    "from sklearn.ensemble import RandomForestClassifier, GradientBoostingClassifier\n",
    "from sklearn.metrics import f1_score\n",
    "from sklearn.cluster import DBSCAN, OPTICS\n",
    "from xgboost import XGBClassifier\n",
    "\n",
    "\n",
    "import json\n",
    "import matplotlib.pyplot as plt\n",
    "import matplotlib as mpl\n",
    "mpl.rcParams['figure.dpi'] = 100\n",
    "plt.style.use('dark_background')\n",
    "\n",
    "from utils import plot_cluster, load_list, save_list, load_data"
   ]
  },
  {
   "cell_type": "code",
   "execution_count": 55,
   "metadata": {},
   "outputs": [
    {
     "name": "stdout",
     "output_type": "stream",
     "text": [
      "Loading data...\n"
     ]
    },
    {
     "name": "stderr",
     "output_type": "stream",
     "text": [
      "c:\\Users\\timot\\MLcompetition\\utils.py:47: FutureWarning: In a future version of pandas all arguments of DataFrame.drop except for the argument 'labels' will be keyword-only\n",
      "  X = train_df.drop(\"change_type\", 1).reindex(idx)[:n_data_max]\n"
     ]
    }
   ],
   "source": [
    "X, Y = load_data(add_knn_mean=True,\n",
    "                 add_knn_concat=False,\n",
    "                 n_data_max=10000,\n",
    "                 shuffle = True)\n"
   ]
  },
  {
   "cell_type": "code",
   "execution_count": 70,
   "metadata": {},
   "outputs": [
    {
     "name": "stdout",
     "output_type": "stream",
     "text": [
      "Loading data...\n"
     ]
    }
   ],
   "source": [
    "X, Y = load_data(add_knn_mean=False,\n",
    "                 add_knn_concat=False,\n",
    "                 n_data_max=99999999,\n",
    "                 shuffle = True)\n"
   ]
  },
  {
   "cell_type": "code",
   "execution_count": 71,
   "metadata": {},
   "outputs": [
    {
     "name": "stdout",
     "output_type": "stream",
     "text": [
      "Fitting...\n"
     ]
    },
    {
     "name": "stderr",
     "output_type": "stream",
     "text": [
      "C:\\Users\\timot\\AppData\\Local\\Programs\\Python\\Python39\\lib\\site-packages\\xgboost\\sklearn.py:1224: UserWarning: The use of label encoder in XGBClassifier is deprecated and will be removed in a future release. To remove this warning, do the following: 1) Pass option use_label_encoder=False when constructing XGBClassifier object; and 2) Encode your labels (y) as integers starting with 0, i.e. 0, 1, 2, ..., [num_class - 1].\n",
      "  warnings.warn(label_encoder_deprecation_msg, UserWarning)\n"
     ]
    },
    {
     "name": "stdout",
     "output_type": "stream",
     "text": [
      "Train score: 0.7330177409721214\n",
      "Test score: 0.7084651643313747\n",
      "\n"
     ]
    },
    {
     "data": {
      "image/png": "[encoded data removed]",
      "text/plain": [
       "<Figure size 600x400 with 1 Axes>"
      ]
     },
     "metadata": {},
     "output_type": "display_data"
    }
   ],
   "source": [
    "\n",
    "# xgb = XGBClassifier()\n",
    "\n",
    "X_train, X_test, Y_train, Y_test = train_test_split(X, Y, test_size = 0.2, random_state = 22)\n",
    "\n",
    "print('Fitting...')\n",
    "L_n = [100]\n",
    "L_train_score = list()\n",
    "L_test_score = list()\n",
    "\n",
    "for n in L_n:\n",
    "        model = RandomForestClassifier(n_estimators=n,\n",
    "                            max_depth=5,\n",
    "                            min_samples_leaf=1,\n",
    "                            min_samples_split=2,\n",
    "                                )\n",
    "        model = GradientBoostingClassifier(n_estimators=n, \n",
    "                                )\n",
    "        model = XGBClassifier( \n",
    "                        n_estimators = n,\n",
    "                #       scale_pos_weight=1,\n",
    "                #       learning_rate=0.01,  \n",
    "                #       colsample_bytree = 0.4,\n",
    "                #       subsample = 0.8,\n",
    "                #       objective='binary:logistic', \n",
    "                #       reg_alpha = 0.3,\n",
    "                #       max_depth=4, \n",
    "                #       gamma=10\n",
    "                      )\n",
    "        \n",
    "        eval_set = [(X_train, Y_train), (X_test, Y_test)]\n",
    "        eval_metric = [\"error\"]\n",
    "        model.fit(X_train, Y_train, \n",
    "                eval_metric=eval_metric, \n",
    "                #   eval_set=eval_set, \n",
    "                  verbose=False\n",
    "                  )\n",
    "        \n",
    "        Y_pred          = model.predict(X_test)\n",
    "        Y_pred_train    = model.predict(X_train)\n",
    "        score_train = f1_score(Y_train, Y_pred_train, average = 'micro')\n",
    "        score_test = f1_score(Y_test, Y_pred, average = 'micro')\n",
    "        L_train_score.append(score_train)\n",
    "        L_test_score.append(score_test)\n",
    "        print(f\"Train score: {score_train}\")\n",
    "        print(f\"Test score: {score_test}\")\n",
    "        print()\n",
    "\n",
    "plt.plot(L_n, L_train_score)\n",
    "plt.plot(L_n, L_test_score)\n",
    "plt.ylim(bottom = 0, top = 1)\n",
    "plt.show()\n"
   ]
  },
  {
   "cell_type": "code",
   "execution_count": null,
   "metadata": {},
   "outputs": [],
   "source": []
  },
  {
   "cell_type": "code",
   "execution_count": null,
   "metadata": {},
   "outputs": [],
   "source": []
  },
  {
   "cell_type": "code",
   "execution_count": null,
   "metadata": {},
   "outputs": [],
   "source": []
  }
 ],
 "metadata": {
  "interpreter": {
   "hash": "7e016cbfee4a4a9f8ad68d1216e5f03d3845a8636147ff93c078e6684dcfe1d3"
  },
  "kernelspec": {
   "display_name": "Python 3.9.7 64-bit",
   "language": "python",
   "name": "python3"
  },
  "language_info": {
   "codemirror_mode": {
    "name": "ipython",
    "version": 3
   },
   "file_extension": ".py",
   "mimetype": "text/x-python",
   "name": "python",
   "nbconvert_exporter": "python",
   "pygments_lexer": "ipython3",
   "version": "3.9.7"
  },
  "orig_nbformat": 4
 },
 "nbformat": 4,
 "nbformat_minor": 2
}
