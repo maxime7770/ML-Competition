{
 "cells": [
  {
   "cell_type": "code",
   "execution_count": 4,
   "metadata": {},
   "outputs": [],
   "source": [
    "%load_ext autoreload\n",
    "%autoreload 2"
   ]
  },
  {
   "cell_type": "code",
   "execution_count": 1,
   "metadata": {},
   "outputs": [],
   "source": [
    "import pandas as pd\n",
    "import geopandas as gpd\n",
    "import xgboost\n",
    "import sys\n",
    "from sklearn.preprocessing import LabelEncoder\n",
    "import numpy as np\n",
    "from math import * \n",
    "from tqdm import tqdm\n",
    "from sklearn import model_selection\n",
    "from sklearn.metrics import roc_auc_score\n",
    "from sklearn import preprocessing\n",
    "from sklearn.metrics import classification_report\n",
    "from sklearn.model_selection import train_test_split\n",
    "from sklearn.model_selection import StratifiedKFold\n",
    "from sklearn.model_selection import cross_val_score\n",
    "from sklearn.metrics import accuracy_score\n",
    "from sklearn.ensemble import RandomForestClassifier, GradientBoostingClassifier\n",
    "from sklearn.metrics import f1_score\n",
    "from sklearn.cluster import DBSCAN, OPTICS\n",
    "from xgboost import XGBClassifier\n",
    "from sklearn.preprocessing import PolynomialFeatures\n",
    "\n",
    "import json\n",
    "import matplotlib.pyplot as plt\n",
    "import matplotlib as mpl\n",
    "mpl.rcParams['figure.dpi'] = 100\n",
    "plt.style.use('dark_background')\n",
    "\n",
    "from utils import plot_cluster, load_list, save_list, load_data, load_data_test\n"
   ]
  },
  {
   "cell_type": "code",
   "execution_count": 7,
   "metadata": {},
   "outputs": [
    {
     "name": "stdout",
     "output_type": "stream",
     "text": [
      "Loading data...\n",
      "\n",
      "Basic features lenght: 310006\n",
      "knn mean features lenght: 310006\n",
      "knn concat features lenght: 310006\n",
      "Dates features lenght: 310006\n",
      "Building Fourier coefficients...\n",
      "Done\n",
      "X_train and Y_train loaded.\n",
      "Loading data...\n",
      "\n",
      "Basic features lenght: 121704\n",
      "knn mean features lenght: 121704\n",
      "knn concat features lenght: 121704\n",
      "Dates features lenght: 121704\n",
      "Building Fourier coefficients...\n",
      "Done\n",
      "X_val loaded.\n",
      "Datas containing NA loaded: 169\n"
     ]
    }
   ],
   "source": [
    "X, Y = load_data(add_knn_mean=True,\n",
    "                 add_knn_concat=True,\n",
    "                 add_dates=True,\n",
    "                 add_polynomial=False,\n",
    "                 add_fourier=True,\n",
    "                 n_data_max=9999999999,\n",
    "                 shuffle = True)\n",
    "\n",
    "X_target = load_data_test(add_knn_mean=True,\n",
    "                 add_knn_concat=True,\n",
    "                 add_dates=True,\n",
    "                 add_fourier=True,\n",
    "                 n_data_max=99999999,\n",
    "                 shuffle = False)\n",
    "\n",
    "print(f'Datas containing NA loaded: {len(X[X.isna().any(axis = 1)])}')\n"
   ]
  },
  {
   "cell_type": "code",
   "execution_count": 8,
   "metadata": {},
   "outputs": [
    {
     "name": "stdout",
     "output_type": "stream",
     "text": [
      "(310006, 141)\n",
      "(310006,)\n",
      "(121704, 141)\n"
     ]
    }
   ],
   "source": [
    "print(X.shape)\n",
    "print(Y.shape)\n",
    "print(X_target.shape)"
   ]
  },
  {
   "cell_type": "code",
   "execution_count": 9,
   "metadata": {},
   "outputs": [
    {
     "name": "stdout",
     "output_type": "stream",
     "text": [
      "['change_status_date1', 'change_status_date2', 'change_status_date3', 'change_status_date4', 'change_status_date5', 'diff1', 'diff2', 'diff3', 'diff4', 'year_date1', 'year_date2', 'year_date3', 'year_date4', 'year_date5', 'area', 'length', 'area/length**2', 'elongation', 'centroid_x', 'centroid_y', 'height', 'width', 'nb_points', 'diff_area', 'is_convex', 'centroid_dist', 'length/width', 'Dense Urban', 'Industrial', 'None', 'Rural', 'Sparse Urban', 'Urban Slum', 'Barren Land', 'Coastal', 'Dense Forest', 'Desert', 'Farms', 'Grass Land', 'Hills', 'Lakes', 'None.1', 'River', 'Snow', 'Sparse Forest', 'knn_mean_area', 'knn_mean_length', 'knn_mean_area/length**2', 'knn_mean_elongation', 'knn_mean_centroid_x', 'knn_mean_height', 'knn_mean_width', 'knn_mean_nb_points', 'knn_mean_centroid_dist', 'knn_mean_length/width', 'knn_mean_Dense Urban', 'knn_mean_Industrial', 'knn_mean_None', 'knn_mean_Rural', 'knn_mean_Sparse Urban', 'knn_mean_Urban Slum', 'knn_mean_Barren Land', 'knn_mean_Coastal', 'knn_mean_Dense Forest', 'knn_mean_Desert', 'knn_mean_Farms', 'knn_mean_Grass Land', 'knn_mean_Hills', 'knn_mean_Lakes', 'knn_mean_None.1', 'knn_mean_River', 'knn_mean_Snow', 'knn_mean_Sparse Forest', 'knn_mean_diff1', 'knn_mean_diff2', 'knn_mean_diff3', 'knn_mean_diff4', 'knn_mean_year_date1', 'knn_mean_year_date2', 'knn_mean_year_date3', 'knn_mean_year_date4', 'knn_mean_year_date5', '1th_nn_area', '1th_nn_length', '1th_nn_area/length**2', '1th_nn_elongation', '1th_nn_centroid_x', '1th_nn_height', '1th_nn_width', '1th_nn_nb_points', '1th_nn_centroid_dist', '1th_nn_length/width', '1th_nn_Dense Urban', '1th_nn_Industrial', '1th_nn_None', '1th_nn_Rural', '1th_nn_Sparse Urban', '1th_nn_Urban Slum', '1th_nn_Barren Land', '1th_nn_Coastal', '1th_nn_Dense Forest', '1th_nn_Desert', '1th_nn_Farms', '1th_nn_Grass Land', '1th_nn_Hills', '1th_nn_Lakes', '1th_nn_None.1', '1th_nn_River', '1th_nn_Snow', '1th_nn_Sparse Forest', '1th_nn_diff1', '1th_nn_diff2', '1th_nn_diff3', '1th_nn_diff4', '1th_nn_year_date1', '1th_nn_year_date2', '1th_nn_year_date3', '1th_nn_year_date4', '1th_nn_year_date5', 'duration_to_reach1', 'duration_to_reach2', 'duration_to_reach3', 'duration_to_reach4', 'duration_to_reach5', 'old1', 'old2', 'old3', 'old4', 'old5', 'harm1_coeff1', 'harm1_coeff2', 'harm1_coeff3', 'harm1_coeff4', 'harm2_coeff1', 'harm2_coeff2', 'harm2_coeff3', 'harm2_coeff4', 'harm3_coeff1', 'harm3_coeff2', 'harm3_coeff3', 'harm3_coeff4']\n"
     ]
    }
   ],
   "source": [
    "print(list(X.columns))"
   ]
  },
  {
   "cell_type": "code",
   "execution_count": 16,
   "metadata": {},
   "outputs": [
    {
     "name": "stdout",
     "output_type": "stream",
     "text": [
      "Fitting...\n",
      "[16:14:02] WARNING: C:/Users/Administrator/workspace/xgboost-win64_release_1.5.1/src/learner.cc:1115: Starting in XGBoost 1.3.0, the default evaluation metric used with the objective 'multi:softprob' was changed from 'merror' to 'mlogloss'. Explicitly set eval_metric if you'd like to restore the old behavior.\n"
     ]
    }
   ],
   "source": [
    "\n",
    "# xgb = XGBClassifier()\n",
    "\n",
    "X_train, X_test, Y_train, Y_test = train_test_split(X, Y, test_size = 0.2, random_state = 22)\n",
    "\n",
    "print('Fitting...')\n",
    "L_n = [700]\n",
    "L_d = [2, 3, 4, 5, 10]\n",
    "average = 'weighted'\n",
    "L_train_score = list()\n",
    "L_test_score = list()\n",
    "L = list()\n",
    "\n",
    "for n in L_n:\n",
    "        # model = RandomForestClassifier(n_estimators=n,\n",
    "        #                     max_depth=15,\n",
    "        #                     min_samples_leaf=1,\n",
    "        #                     min_samples_split=2,\n",
    "        #                         )\n",
    "        # model = GradientBoostingClassifier(n_estimators=n, \n",
    "        #                         )\n",
    "        model = XGBClassifier( \n",
    "                        n_estimators = n,\n",
    "                #       scale_pos_weight=1,\n",
    "                #       learning_rate=0.01,  \n",
    "                #       colsample_bytree = 0.4,\n",
    "                #       subsample = 0.8,\n",
    "                #       objective='binary:logistic', \n",
    "                #       reg_alpha = 0.3,\n",
    "                        max_depth=8, \n",
    "                #       gamma=10,\n",
    "                        use_label_encoder=False,\n",
    "                      )\n",
    "        \n",
    "        eval_set = [(X_train, Y_train), (X_test, Y_test)]\n",
    "        eval_metric = [\"error\"]\n",
    "        model.fit(X_train, Y_train, \n",
    "                # eval_metric=eval_metric, \n",
    "                # eval_set=eval_set, \n",
    "                # verbose=False\n",
    "                  )\n",
    "        \n",
    "        Y_pred          = model.predict(X_test)\n",
    "        Y_pred_train    = model.predict(X_train)\n",
    "        score_train = f1_score(Y_train, Y_pred_train, average = average)\n",
    "        score_test = f1_score(Y_test, Y_pred, average = average)\n",
    "        L_train_score.append(score_train)\n",
    "        L_test_score.append(score_test)\n",
    "        L.append(n)\n",
    "        print(f\"Train score: {score_train}\")\n",
    "        print(f\"Test score: {score_test}\")\n",
    "        print()\n",
    "        plt.clf()\n",
    "        plt.plot(L, L_train_score, 'r')\n",
    "        plt.plot(L, L_test_score, 'b')\n",
    "        plt.ylim(bottom = 0, top = 1)\n",
    "        model_final = model\n",
    "\n"
   ]
  },
  {
   "cell_type": "code",
   "execution_count": 11,
   "metadata": {},
   "outputs": [
    {
     "name": "stdout",
     "output_type": "stream",
     "text": [
      "Importance of change_status_date5: 17.399999499320984%\n",
      "Importance of change_status_date1: 5.499999970197678%\n",
      "Importance of knn_mean_length/width: 2.500000037252903%\n",
      "Importance of change_status_date2: 1.899999938905239%\n",
      "Importance of area/length**2: 1.7000000923871994%\n",
      "Importance of centroid_y: 1.600000075995922%\n",
      "Importance of harm1_coeff1: 1.600000075995922%\n",
      "Importance of knn_mean_area: 1.0999999940395355%\n",
      "Importance of duration_to_reach5: 0.9999999776482582%\n",
      "Importance of knn_mean_Desert: 0.9999999776482582%\n",
      "Importance of knn_mean_area/length**2: 0.9999999776482582%\n",
      "Importance of knn_mean_centroid_x: 0.9999999776482582%\n",
      "Importance of centroid_dist: 0.8999999612569809%\n",
      "Importance of old2: 0.8999999612569809%\n",
      "Importance of 1th_nn_year_date4: 0.8999999612569809%\n",
      "Importance of nb_points: 0.8999999612569809%\n",
      "Importance of 1th_nn_centroid_x: 0.8999999612569809%\n",
      "Importance of diff4: 0.8999999612569809%\n",
      "Importance of height: 0.8999999612569809%\n",
      "Importance of knn_mean_Industrial: 0.800000037997961%\n",
      "Importance of change_status_date3: 0.800000037997961%\n",
      "Importance of length: 0.800000037997961%\n",
      "Importance of centroid_x: 0.800000037997961%\n",
      "Importance of duration_to_reach4: 0.800000037997961%\n",
      "Importance of change_status_date4: 0.800000037997961%\n",
      "Importance of knn_mean_year_date2: 0.800000037997961%\n",
      "Importance of 1th_nn_year_date3: 0.7000000216066837%\n",
      "Importance of duration_to_reach3: 0.7000000216066837%\n",
      "Importance of duration_to_reach2: 0.7000000216066837%\n",
      "Importance of knn_mean_Urban Slum: 0.7000000216066837%\n",
      "Importance of knn_mean_Hills: 0.7000000216066837%\n",
      "Importance of knn_mean_diff3: 0.7000000216066837%\n",
      "Importance of None.1: 0.7000000216066837%\n",
      "Importance of diff1: 0.6000000052154064%\n",
      "Importance of old5: 0.6000000052154064%\n",
      "Importance of year_date1: 0.6000000052154064%\n",
      "Importance of knn_mean_diff4: 0.6000000052154064%\n",
      "Importance of length/width: 0.6000000052154064%\n",
      "Importance of 1th_nn_diff2: 0.6000000052154064%\n",
      "Importance of old4: 0.6000000052154064%\n",
      "Importance of old1: 0.6000000052154064%\n",
      "Importance of elongation: 0.6000000052154064%\n",
      "Importance of diff3: 0.6000000052154064%\n",
      "Importance of duration_to_reach1: 0.6000000052154064%\n",
      "Importance of knn_mean_year_date1: 0.6000000052154064%\n",
      "Importance of knn_mean_nb_points: 0.6000000052154064%\n",
      "Importance of 1th_nn_diff3: 0.6000000052154064%\n",
      "Importance of Hills: 0.6000000052154064%\n",
      "Importance of old3: 0.6000000052154064%\n",
      "Importance of knn_mean_diff1: 0.6000000052154064%\n",
      "Importance of knn_mean_Coastal: 0.6000000052154064%\n",
      "Importance of 1th_nn_Urban Slum: 0.6000000052154064%\n",
      "Importance of 1th_nn_Rural: 0.4999999888241291%\n",
      "Importance of year_date5: 0.4999999888241291%\n",
      "Importance of 1th_nn_Desert: 0.4999999888241291%\n",
      "Importance of knn_mean_None.1: 0.4999999888241291%\n",
      "Importance of knn_mean_elongation: 0.4999999888241291%\n",
      "Importance of knn_mean_diff2: 0.4999999888241291%\n",
      "Importance of diff2: 0.4999999888241291%\n",
      "Importance of knn_mean_height: 0.4999999888241291%\n",
      "Importance of knn_mean_year_date5: 0.4999999888241291%\n",
      "Importance of year_date2: 0.4999999888241291%\n",
      "Importance of Coastal: 0.4999999888241291%\n",
      "Importance of harm1_coeff4: 0.4999999888241291%\n",
      "Importance of knn_mean_year_date3: 0.4999999888241291%\n",
      "Importance of 1th_nn_diff1: 0.4999999888241291%\n",
      "Importance of knn_mean_Rural: 0.4999999888241291%\n",
      "Importance of 1th_nn_diff4: 0.4999999888241291%\n",
      "Importance of 1th_nn_year_date1: 0.4999999888241291%\n",
      "Importance of knn_mean_width: 0.4999999888241291%\n",
      "Importance of Rural: 0.4999999888241291%\n",
      "Importance of knn_mean_Farms: 0.4999999888241291%\n",
      "Importance of area: 0.4999999888241291%\n",
      "Importance of knn_mean_centroid_dist: 0.4999999888241291%\n",
      "Importance of 1th_nn_Coastal: 0.4999999888241291%\n",
      "Importance of knn_mean_River: 0.4999999888241291%\n",
      "Importance of width: 0.4999999888241291%\n",
      "Importance of 1th_nn_Dense Forest: 0.4999999888241291%\n",
      "Importance of 1th_nn_Hills: 0.4999999888241291%\n",
      "Importance of knn_mean_year_date4: 0.4000000189989805%\n",
      "Importance of Urban Slum: 0.4000000189989805%\n",
      "Importance of knn_mean_None: 0.4000000189989805%\n",
      "Importance of is_convex: 0.4000000189989805%\n",
      "Importance of River: 0.4000000189989805%\n",
      "Importance of knn_mean_length: 0.4000000189989805%\n",
      "Importance of 1th_nn_None: 0.4000000189989805%\n",
      "Importance of 1th_nn_length: 0.4000000189989805%\n",
      "Importance of 1th_nn_None.1: 0.4000000189989805%\n",
      "Importance of knn_mean_Barren Land: 0.4000000189989805%\n",
      "Importance of 1th_nn_area: 0.4000000189989805%\n",
      "Importance of 1th_nn_height: 0.4000000189989805%\n",
      "Importance of 1th_nn_elongation: 0.4000000189989805%\n",
      "Importance of Farms: 0.4000000189989805%\n",
      "Importance of 1th_nn_Farms: 0.4000000189989805%\n",
      "Importance of 1th_nn_width: 0.4000000189989805%\n",
      "Importance of diff_area: 0.4000000189989805%\n",
      "Importance of knn_mean_Dense Urban: 0.4000000189989805%\n",
      "Importance of knn_mean_Lakes: 0.4000000189989805%\n",
      "Importance of Snow: 0.4000000189989805%\n",
      "Importance of knn_mean_Dense Forest: 0.4000000189989805%\n",
      "Importance of 1th_nn_centroid_dist: 0.4000000189989805%\n",
      "Importance of year_date3: 0.4000000189989805%\n",
      "Importance of 1th_nn_Barren Land: 0.4000000189989805%\n",
      "Importance of Barren Land: 0.4000000189989805%\n",
      "Importance of 1th_nn_length/width: 0.4000000189989805%\n",
      "Importance of 1th_nn_year_date2: 0.4000000189989805%\n",
      "Importance of 1th_nn_Dense Urban: 0.4000000189989805%\n",
      "Importance of None: 0.4000000189989805%\n",
      "Importance of 1th_nn_area/length**2: 0.4000000189989805%\n",
      "Importance of Dense Urban: 0.4000000189989805%\n",
      "Importance of knn_mean_Sparse Forest: 0.4000000189989805%\n",
      "Importance of 1th_nn_Sparse Urban: 0.4000000189989805%\n",
      "Importance of knn_mean_Sparse Urban: 0.4000000189989805%\n",
      "Importance of Sparse Urban: 0.4000000189989805%\n",
      "Importance of harm3_coeff4: 0.4000000189989805%\n",
      "Importance of 1th_nn_Lakes: 0.4000000189989805%\n",
      "Importance of 1th_nn_Industrial: 0.4000000189989805%\n",
      "Importance of 1th_nn_nb_points: 0.3000000026077032%\n",
      "Importance of 1th_nn_year_date5: 0.3000000026077032%\n",
      "Importance of 1th_nn_Sparse Forest: 0.3000000026077032%\n",
      "Importance of harm2_coeff4: 0.3000000026077032%\n",
      "Importance of Industrial: 0.3000000026077032%\n",
      "Importance of harm2_coeff3: 0.3000000026077032%\n",
      "Importance of Dense Forest: 0.3000000026077032%\n",
      "Importance of knn_mean_Snow: 0.3000000026077032%\n",
      "Importance of Desert: 0.3000000026077032%\n",
      "Importance of harm1_coeff3: 0.3000000026077032%\n",
      "Importance of knn_mean_Grass Land: 0.3000000026077032%\n",
      "Importance of Grass Land: 0.3000000026077032%\n",
      "Importance of 1th_nn_River: 0.3000000026077032%\n",
      "Importance of harm1_coeff2: 0.3000000026077032%\n",
      "Importance of Sparse Forest: 0.3000000026077032%\n",
      "Importance of Lakes: 0.3000000026077032%\n",
      "Importance of 1th_nn_Grass Land: 0.3000000026077032%\n",
      "Importance of year_date4: 0.3000000026077032%\n",
      "Importance of 1th_nn_Snow: 0.20000000949949026%\n",
      "Importance of harm2_coeff1: 0.0%\n",
      "Importance of harm2_coeff2: 0.0%\n",
      "Importance of harm3_coeff1: 0.0%\n",
      "Importance of harm3_coeff2: 0.0%\n",
      "Importance of harm3_coeff3: 0.0%\n"
     ]
    }
   ],
   "source": [
    "#IMPORTANCES OF FEATURES\n",
    "importances = model.feature_importances_\n",
    "for feature, imp in sorted(zip(X_train.columns, importances), key = lambda x: -x[1]):\n",
    "    print(f'Importance of {feature}: {100*round(imp, 3)}%')"
   ]
  },
  {
   "cell_type": "code",
   "execution_count": null,
   "metadata": {},
   "outputs": [],
   "source": [
    "#FEATURE SELECTION USING CROSS VAL (too long)\n",
    "from sklearn.feature_selection import RFECV\n",
    "xgboost.set_config(verbosity=0)\n",
    "xgb = model = XGBClassifier( \n",
    "                        n_estimators = 2,\n",
    "                #       scale_pos_weight=1,\n",
    "                #       learning_rate=0.01,  \n",
    "                #       colsample_bytree = 0.4,\n",
    "                #       subsample = 0.8,\n",
    "                #       objective='binary:logistic', \n",
    "                #       reg_alpha = 0.3,\n",
    "                        max_depth=2, \n",
    "                #       gamma=10,\n",
    "                        use_label_encoder=False,\n",
    "                      )\n",
    "scorer = lambda estimator, x_test, y_true : f1_score(y_true, estimator.predict(x_test), average = 'weighted')\n",
    "xgb_fs = RFECV(xgb, cv = 3, scoring = scorer)\n",
    "N = 10000     \n",
    "xgb_fs.fit(X_train[:N], np.array(Y_train[:N]))"
   ]
  },
  {
   "cell_type": "code",
   "execution_count": 418,
   "metadata": {},
   "outputs": [
    {
     "name": "stdout",
     "output_type": "stream",
     "text": [
      "fit on data: 31000\n",
      "fit on data: 31001\n",
      "fit on data: 31000\n",
      "fit on data: 31001\n",
      "fit on data: 31001\n",
      "fit on data: 31000\n",
      "fit on data: 31001\n",
      "fit on data: 31000\n",
      "fit on data: 31001\n",
      "fit on data: 31001\n",
      "Importance of knn_mean_length/width: 13.4 +/- 2.7\n",
      "Importance of change_status_date5: 9.5 +/- 0.8\n",
      "Importance of change_status_date1: 5.5 +/- 0.3\n",
      "Importance of knn_mean_area/length**2: 5.0 +/- 2.4\n",
      "Importance of area/length**2: 4.9 +/- 0.7000000000000001\n",
      "Importance of centroid_dist: 3.5000000000000004 +/- 1.0999999999999999\n",
      "Importance of knn_mean_area: 3.1 +/- 0.4\n",
      "Importance of knn_mean_Industrial: 2.7 +/- 0.8\n",
      "Importance of length: 2.7 +/- 1.4000000000000001\n",
      "Importance of knn_mean_centroid_x: 2.6 +/- 3.5000000000000004\n",
      "Importance of change_status_date2: 2.6 +/- 0.6\n",
      "Importance of elongation: 2.3 +/- 0.8\n",
      "Importance of centroid_y: 2.1999999999999997 +/- 0.4\n",
      "Importance of height: 2.0 +/- 0.3\n",
      "Importance of duration_to_reach5: 1.7000000000000002 +/- 0.4\n",
      "Importance of old2: 1.7000000000000002 +/- 0.2\n",
      "Importance of length/width: 1.5 +/- 0.3\n",
      "Importance of change_status_date3: 1.2 +/- 0.6\n",
      "Importance of knn_mean_height: 1.2 +/- 0.3\n",
      "Importance of 1th_nn_centroid_x: 1.2 +/- 1.0999999999999999\n",
      "Importance of centroid_x: 1.0999999999999999 +/- 0.6\n",
      "Importance of nb_points: 1.0 +/- 0.3\n",
      "Importance of knn_mean_elongation: 1.0 +/- 0.4\n",
      "Importance of change_status_date4: 0.8999999999999999 +/- 0.3\n",
      "Importance of duration_to_reach4: 0.8999999999999999 +/- 0.3\n",
      "Importance of duration_to_reach2: 0.8999999999999999 +/- 0.3\n",
      "Importance of knn_mean_nb_points: 0.8999999999999999 +/- 0.1\n",
      "Importance of 1th_nn_diff3: 0.8 +/- 0.4\n",
      "Importance of duration_to_reach3: 0.8 +/- 0.3\n",
      "Importance of 1th_nn_diff2: 0.8 +/- 0.6\n",
      "Importance of knn_mean_diff2: 0.7000000000000001 +/- 0.5\n",
      "Importance of old4: 0.7000000000000001 +/- 0.2\n",
      "Importance of area: 0.7000000000000001 +/- 0.2\n",
      "Importance of knn_mean_diff3: 0.6 +/- 0.2\n",
      "Importance of old1: 0.6 +/- 0.2\n",
      "Importance of knn_mean_Dense Urban: 0.6 +/- 0.3\n",
      "Importance of diff4: 0.6 +/- 0.2\n",
      "Importance of knn_mean_diff4: 0.6 +/- 0.4\n",
      "Importance of 1th_nn_length: 0.6 +/- 0.3\n",
      "Importance of 1th_nn_diff4: 0.6 +/- 0.2\n",
      "Importance of diff3: 0.6 +/- 0.1\n",
      "Importance of diff_area: 0.5 +/- 0.2\n",
      "Importance of width: 0.5 +/- 0.2\n",
      "Importance of 1th_nn_height: 0.5 +/- 0.1\n",
      "Importance of diff1: 0.5 +/- 0.1\n",
      "Importance of knn_mean_width: 0.5 +/- 0.2\n",
      "Importance of old3: 0.5 +/- 0.1\n",
      "Importance of old5: 0.4 +/- 0.2\n",
      "Importance of diff2: 0.4 +/- 0.2\n",
      "Importance of knn_mean_Farms: 0.4 +/- 0.2\n",
      "Importance of 1th_nn_elongation: 0.4 +/- 0.1\n",
      "Importance of knn_mean_Desert: 0.4 +/- 0.3\n",
      "Importance of 1th_nn_centroid_dist: 0.4 +/- 0.2\n",
      "Importance of knn_mean_length: 0.4 +/- 0.1\n",
      "Importance of 1th_nn_diff1: 0.4 +/- 0.3\n",
      "Importance of 1th_nn_area: 0.3 +/- 0.1\n",
      "Importance of knn_mean_centroid_dist: 0.3 +/- 0.1\n",
      "Importance of knn_mean_Sparse Forest: 0.3 +/- 0.2\n",
      "Importance of duration_to_reach1: 0.3 +/- 0.1\n",
      "Importance of 1th_nn_width: 0.3 +/- 0.1\n",
      "Importance of knn_mean_diff1: 0.3 +/- 0.2\n",
      "Importance of 1th_nn_nb_points: 0.3 +/- 0.2\n",
      "Importance of knn_mean_Lakes: 0.3 +/- 0.1\n",
      "Importance of knn_mean_Sparse Urban: 0.3 +/- 0.1\n",
      "Importance of knn_mean_Barren Land: 0.3 +/- 0.2\n",
      "Importance of 1th_nn_area/length**2: 0.2 +/- 0.1\n",
      "Importance of year_date3: 0.2 +/- 0.3\n",
      "Importance of 1th_nn_length/width: 0.2 +/- 0.1\n",
      "Importance of knn_mean_Dense Forest: 0.2 +/- 0.1\n",
      "Importance of knn_mean_Grass Land: 0.2 +/- 0.1\n",
      "Importance of Dense Urban: 0.2 +/- 0.3\n",
      "Importance of knn_mean_year_date3: 0.2 +/- 0.3\n",
      "Importance of knn_mean_None: 0.2 +/- 0.1\n",
      "Importance of knn_mean_River: 0.2 +/- 0.1\n",
      "Importance of Sparse Forest: 0.1 +/- 0.1\n",
      "Importance of Industrial: 0.1 +/- 0.2\n",
      "Importance of knn_mean_Coastal: 0.1 +/- 0.1\n",
      "Importance of knn_mean_None.1: 0.1 +/- 0.2\n",
      "Importance of knn_mean_year_date1: 0.1 +/- 0.3\n",
      "Importance of knn_mean_year_date4: 0.1 +/- 0.2\n",
      "Importance of knn_mean_Rural: 0.1 +/- 0.1\n",
      "Importance of 1th_nn_Sparse Urban: 0.1 +/- 0.1\n",
      "Importance of year_date4: 0.1 +/- 0.2\n",
      "Importance of Dense Forest: 0.1 +/- 0.1\n",
      "Importance of year_date5: 0.1 +/- 0.1\n",
      "Importance of Farms: 0.1 +/- 0.1\n",
      "Importance of 1th_nn_Desert: 0.1 +/- 0.2\n",
      "Importance of Sparse Urban: 0.1 +/- 0.1\n",
      "Importance of 1th_nn_Dense Urban: 0.1 +/- 0.1\n",
      "Importance of 1th_nn_Barren Land: 0.1 +/- 0.1\n",
      "Importance of River: 0.1 +/- 0.1\n",
      "Importance of Desert: 0.1 +/- 0.1\n",
      "Importance of year_date1: 0.1 +/- 0.1\n",
      "Importance of is_convex: 0.1 +/- 0.1\n",
      "Importance of year_date2: 0.1 +/- 0.1\n",
      "Importance of None: 0.0 +/- 0.1\n",
      "Importance of Urban Slum: 0.0 +/- 0.1\n",
      "Importance of None.1: 0.0 +/- 0.1\n",
      "Importance of 1th_nn_Grass Land: 0.0 +/- 0.1\n",
      "Importance of 1th_nn_Rural: 0.0 +/- 0.1\n",
      "Importance of 1th_nn_Urban Slum: 0.0 +/- 0.1\n",
      "Importance of Lakes: 0.0 +/- 0.1\n",
      "Importance of 1th_nn_River: 0.0 +/- 0.1\n",
      "Importance of knn_mean_Urban Slum: 0.0 +/- 0.0\n",
      "Importance of Coastal: 0.0 +/- 0.0\n",
      "Importance of 1th_nn_None.1: 0.0 +/- 0.1\n",
      "Importance of Grass Land: 0.0 +/- 0.1\n",
      "Importance of Barren Land: 0.0 +/- 0.1\n",
      "Importance of 1th_nn_Dense Forest: 0.0 +/- 0.1\n",
      "Importance of 1th_nn_Sparse Forest: 0.0 +/- 0.0\n",
      "Importance of 1th_nn_year_date3: 0.0 +/- 0.0\n",
      "Importance of knn_mean_year_date5: 0.0 +/- 0.0\n",
      "Importance of Rural: 0.0 +/- 0.0\n",
      "Importance of 1th_nn_None: 0.0 +/- 0.0\n",
      "Importance of 1th_nn_Lakes: 0.0 +/- 0.0\n",
      "Importance of Hills: 0.0 +/- 0.0\n",
      "Importance of Snow: 0.0 +/- 0.0\n",
      "Importance of knn_mean_Hills: 0.0 +/- 0.0\n",
      "Importance of knn_mean_Snow: 0.0 +/- 0.0\n",
      "Importance of knn_mean_year_date2: 0.0 +/- 0.0\n",
      "Importance of 1th_nn_Industrial: 0.0 +/- 0.0\n",
      "Importance of 1th_nn_Coastal: 0.0 +/- 0.0\n",
      "Importance of 1th_nn_Farms: 0.0 +/- 0.0\n",
      "Importance of 1th_nn_Hills: 0.0 +/- 0.0\n",
      "Importance of 1th_nn_Snow: 0.0 +/- 0.0\n",
      "Importance of 1th_nn_year_date1: 0.0 +/- 0.0\n",
      "Importance of 1th_nn_year_date2: 0.0 +/- 0.0\n",
      "Importance of 1th_nn_year_date4: 0.0 +/- 0.0\n",
      "Importance of 1th_nn_year_date5: 0.0 +/- 0.0\n"
     ]
    }
   ],
   "source": [
    "K = 10\n",
    "importances = np.zeros(shape = (X.shape[1], K))\n",
    "for k in range(K):\n",
    "        xgb = model = XGBClassifier( \n",
    "                        n_estimators = 10,\n",
    "                        max_depth=5, \n",
    "                        use_label_encoder=False,\n",
    "                      )\n",
    "        X_fold = X[k*len(X)//K: (k+1)*len(X)//K]\n",
    "        Y_fold = Y[k*len(X)//K: (k+1)*len(X)//K]\n",
    "        print('fit on data:', len(X_fold))\n",
    "        xgb.fit(X_fold, Y_fold)\n",
    "        importances[:, k] = xgb.feature_importances_\n",
    "\n",
    "for feature, imp in sorted(zip(X_train.columns, importances), key = lambda x: -x[1].mean()):\n",
    "        print(f'Importance of {feature}: {100*round(imp.mean(), 3)} +/- {100*round(imp.std(), 3)}')"
   ]
  },
  {
   "cell_type": "code",
   "execution_count": 399,
   "metadata": {},
   "outputs": [
    {
     "data": {
      "text/plain": [
       "216751    4\n",
       "Name: change_type, dtype: int64"
      ]
     },
     "execution_count": 399,
     "metadata": {},
     "output_type": "execute_result"
    }
   ],
   "source": [
    "N = 1000\n",
    "Y_train[:N][Y_train[:N] == 4]"
   ]
  },
  {
   "cell_type": "code",
   "execution_count": 406,
   "metadata": {},
   "outputs": [
    {
     "name": "stdout",
     "output_type": "stream",
     "text": [
      "129\n",
      "['change_status_date5' 'area/length**2' 'centroid_y' 'height'\n",
      " 'knn_mean_area/length**2' 'knn_mean_length/width' 'duration_to_reach5']\n"
     ]
    }
   ],
   "source": [
    "features = list(X.columns)\n",
    "selected_features = np.array(features)[xgb_fs.get_support()]\n",
    "print(len(features))\n",
    "print(selected_features)"
   ]
  },
  {
   "cell_type": "code",
   "execution_count": 13,
   "metadata": {},
   "outputs": [],
   "source": [
    "\n",
    "def compress_outliers_on_test(X):\n",
    "    '''Replace outliers geographically data points of test (plot test data to see what it means) to an area where they could be i guess.\n",
    "    '''\n",
    "    X[46053:47903]['centroid_y'] = (X[46053:47903]['centroid_y'] - 60) / (60/0.03) + 30\n",
    "    return X\n",
    "\n",
    "def sabotage(Y, frac = .5):\n",
    "    N = int(frac * len(Y))\n",
    "    Y[:N] = 5\n",
    "    return Y"
   ]
  },
  {
   "cell_type": "code",
   "execution_count": 15,
   "metadata": {},
   "outputs": [
    {
     "name": "stderr",
     "output_type": "stream",
     "text": [
      "C:\\Users\\maxwo\\AppData\\Local\\Temp/ipykernel_10480/1490554793.py:4: SettingWithCopyWarning: \n",
      "A value is trying to be set on a copy of a slice from a DataFrame.\n",
      "Try using .loc[row_indexer,col_indexer] = value instead\n",
      "\n",
      "See the caveats in the documentation: https://pandas.pydata.org/pandas-docs/stable/user_guide/indexing.html#returning-a-view-versus-a-copy\n",
      "  X[46053:47903]['centroid_y'] = (X[46053:47903]['centroid_y'] - 60) / (60/0.03) + 30\n"
     ]
    }
   ],
   "source": [
    "X_target = compress_outliers_on_test(X_target)\n",
    "Y_pred2submit = model.predict(X_target)\n",
    "Y_pred2submit = sabotage(Y_pred2submit, 0.08)\n",
    "# Save results to submission file\n",
    "pred_df = pd.DataFrame(Y_pred2submit, columns=['change_type'])\n",
    "pred_df.to_csv(\"submission.csv\", index=True, index_label='Id')"
   ]
  },
  {
   "cell_type": "code",
   "execution_count": 14,
   "metadata": {},
   "outputs": [
    {
     "data": {
      "text/plain": [
       "(121704,)"
      ]
     },
     "execution_count": 14,
     "metadata": {},
     "output_type": "execute_result"
    }
   ],
   "source": [
    "Y_pred2submit.shape"
   ]
  },
  {
   "cell_type": "code",
   "execution_count": 14,
   "metadata": {},
   "outputs": [
    {
     "ename": "NameError",
     "evalue": "name 'Y_pred2submit' is not defined",
     "output_type": "error",
     "traceback": [
      "\u001b[1;31m---------------------------------------------------------------------------\u001b[0m",
      "\u001b[1;31mNameError\u001b[0m                                 Traceback (most recent call last)",
      "\u001b[1;32m~\\AppData\\Local\\Temp/ipykernel_10480/4089131536.py\u001b[0m in \u001b[0;36m<module>\u001b[1;34m\u001b[0m\n\u001b[1;32m----> 1\u001b[1;33m \u001b[0mY_pred2submit\u001b[0m \u001b[1;33m=\u001b[0m \u001b[0msabotage\u001b[0m\u001b[1;33m(\u001b[0m\u001b[0mY_pred2submit\u001b[0m\u001b[1;33m,\u001b[0m \u001b[0mfrac\u001b[0m \u001b[1;33m=\u001b[0m \u001b[1;36m0.08\u001b[0m\u001b[1;33m)\u001b[0m\u001b[1;33m\u001b[0m\u001b[1;33m\u001b[0m\u001b[0m\n\u001b[0m\u001b[0;32m      2\u001b[0m \u001b[0mpred_df\u001b[0m \u001b[1;33m=\u001b[0m \u001b[0mpd\u001b[0m\u001b[1;33m.\u001b[0m\u001b[0mDataFrame\u001b[0m\u001b[1;33m(\u001b[0m\u001b[0mY_pred2submit\u001b[0m\u001b[1;33m,\u001b[0m \u001b[0mcolumns\u001b[0m\u001b[1;33m=\u001b[0m\u001b[1;33m[\u001b[0m\u001b[1;34m'change_type'\u001b[0m\u001b[1;33m]\u001b[0m\u001b[1;33m)\u001b[0m\u001b[1;33m\u001b[0m\u001b[1;33m\u001b[0m\u001b[0m\n\u001b[0;32m      3\u001b[0m \u001b[0mpred_df\u001b[0m\u001b[1;33m.\u001b[0m\u001b[0mto_csv\u001b[0m\u001b[1;33m(\u001b[0m\u001b[1;34m\"submission2.csv\"\u001b[0m\u001b[1;33m,\u001b[0m \u001b[0mindex\u001b[0m\u001b[1;33m=\u001b[0m\u001b[1;32mTrue\u001b[0m\u001b[1;33m,\u001b[0m \u001b[0mindex_label\u001b[0m\u001b[1;33m=\u001b[0m\u001b[1;34m'Id'\u001b[0m\u001b[1;33m)\u001b[0m\u001b[1;33m\u001b[0m\u001b[1;33m\u001b[0m\u001b[0m\n",
      "\u001b[1;31mNameError\u001b[0m: name 'Y_pred2submit' is not defined"
     ]
    }
   ],
   "source": [
    "Y_pred2submit = sabotage(Y_pred2submit, frac = 0.08)\n",
    "pred_df = pd.DataFrame(Y_pred2submit, columns=['change_type'])\n",
    "pred_df.to_csv(\"submission2.csv\", index=True, index_label='Id')"
   ]
  },
  {
   "cell_type": "code",
   "execution_count": 16,
   "metadata": {},
   "outputs": [
    {
     "data": {
      "image/png": "[encoded data removed]",
      "text/plain": [
       "<Figure size 600x400 with 1 Axes>"
      ]
     },
     "metadata": {},
     "output_type": "display_data"
    }
   ],
   "source": [
    "plot_cluster(X)"
   ]
  }
 ],
 "metadata": {
  "interpreter": {
   "hash": "7e016cbfee4a4a9f8ad68d1216e5f03d3845a8636147ff93c078e6684dcfe1d3"
  },
  "kernelspec": {
   "display_name": "Python 3.9.7 64-bit",
   "language": "python",
   "name": "python3"
  },
  "language_info": {
   "codemirror_mode": {
    "name": "ipython",
    "version": 3
   },
   "file_extension": ".py",
   "mimetype": "text/x-python",
   "name": "python",
   "nbconvert_exporter": "python",
   "pygments_lexer": "ipython3",
   "version": "3.8.12"
  },
  "orig_nbformat": 4
 },
 "nbformat": 4,
 "nbformat_minor": 2
}
