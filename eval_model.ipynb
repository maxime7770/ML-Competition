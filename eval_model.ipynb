{
 "cells": [
  {
   "cell_type": "code",
   "execution_count": 245,
   "metadata": {},
   "outputs": [
    {
     "name": "stdout",
     "output_type": "stream",
     "text": [
      "The autoreload extension is already loaded. To reload it, use:\n",
      "  %reload_ext autoreload\n"
     ]
    }
   ],
   "source": [
    "%load_ext autoreload\n",
    "%autoreload 2"
   ]
  },
  {
   "cell_type": "code",
   "execution_count": 246,
   "metadata": {},
   "outputs": [],
   "source": [
    "import pandas as pd\n",
    "import geopandas as gpd\n",
    "import xgboost\n",
    "import sys\n",
    "from sklearn.preprocessing import LabelEncoder\n",
    "import numpy as np\n",
    "from math import * \n",
    "from tqdm import tqdm\n",
    "from sklearn import model_selection\n",
    "from sklearn.metrics import roc_auc_score\n",
    "from sklearn import preprocessing\n",
    "from sklearn.metrics import classification_report\n",
    "from sklearn.model_selection import train_test_split\n",
    "from sklearn.model_selection import StratifiedKFold\n",
    "from sklearn.model_selection import cross_val_score\n",
    "from sklearn.metrics import accuracy_score\n",
    "from sklearn.ensemble import RandomForestClassifier, GradientBoostingClassifier\n",
    "from sklearn.metrics import f1_score\n",
    "from sklearn.cluster import DBSCAN, OPTICS\n",
    "from xgboost import XGBClassifier\n",
    "from sklearn.preprocessing import PolynomialFeatures\n",
    "\n",
    "import json\n",
    "import matplotlib.pyplot as plt\n",
    "import matplotlib as mpl\n",
    "mpl.rcParams['figure.dpi'] = 100\n",
    "plt.style.use('dark_background')\n",
    "\n",
    "from utils import plot_cluster, load_list, save_list, load_data, load_data_test\n"
   ]
  },
  {
   "cell_type": "code",
   "execution_count": 316,
   "metadata": {},
   "outputs": [
    {
     "name": "stdout",
     "output_type": "stream",
     "text": [
      "Loading data...\n"
     ]
    },
    {
     "name": "stderr",
     "output_type": "stream",
     "text": [
      "c:\\Users\\timot\\MLcompetition\\utils.py:57: FutureWarning: In a future version of pandas all arguments of DataFrame.drop except for the argument 'labels' will be keyword-only\n",
      "  X = train_df.drop(\"change_type\", 1)\n"
     ]
    },
    {
     "name": "stdout",
     "output_type": "stream",
     "text": [
      "X_train and Y_train loaded.\n",
      "Loading data...\n",
      "X_val loaded.\n",
      "Datas containing NA loaded: 0\n"
     ]
    }
   ],
   "source": [
    "X, Y = load_data(add_knn_mean=True,\n",
    "                 add_knn_concat=True,\n",
    "                 add_dates=False,\n",
    "                 add_polynomial=False,\n",
    "                 n_data_max=9999999999,\n",
    "                 shuffle = True)\n",
    "\n",
    "X_target = load_data_test(add_knn_mean=True,\n",
    "                 add_knn_concat=True,\n",
    "                 n_data_max=99999999,\n",
    "                 shuffle = False)\n",
    "\n",
    "print(f'Datas containing NA loaded: {len(X[X.isna().any(axis = 1)])}')\n"
   ]
  },
  {
   "cell_type": "code",
   "execution_count": 317,
   "metadata": {},
   "outputs": [
    {
     "name": "stdout",
     "output_type": "stream",
     "text": [
      "(309736, 134)\n",
      "(309736,)\n",
      "(121704, 134)\n"
     ]
    }
   ],
   "source": [
    "print(X.shape)\n",
    "print(Y.shape)\n",
    "print(X_target.shape)"
   ]
  },
  {
   "cell_type": "code",
   "execution_count": 308,
   "metadata": {},
   "outputs": [
    {
     "name": "stdout",
     "output_type": "stream",
     "text": [
      "['change_status_date1', 'change_status_date2', 'change_status_date3', 'change_status_date4', 'change_status_date5', 'diff1', 'diff2', 'diff3', 'diff4', 'season_date1', 'season_date2', 'season_date3', 'season_date4', 'season_date5', 'year_date1', 'year_date2', 'year_date3', 'year_date4', 'year_date5', 'area', 'length', 'area/length**2', 'elongation', 'centroid_x', 'centroid_y', 'height', 'width', 'nb_points', 'diff_area', 'is_convex', 'centroid_dist', 'length/width', 'Dense Urban', 'Industrial', 'None', 'Rural', 'Sparse Urban', 'Urban Slum', 'Barren Land', 'Coastal', 'Dense Forest', 'Desert', 'Farms', 'Grass Land', 'Hills', 'Lakes', 'None.1', 'River', 'Snow', 'Sparse Forest', 'knn_mean_area', 'knn_mean_length', 'knn_mean_area/length**2', 'knn_mean_elongation', 'knn_mean_centroid_x', 'knn_mean_height', 'knn_mean_width', 'knn_mean_nb_points', 'knn_mean_centroid_dist', 'knn_mean_length/width', 'knn_mean_Dense Urban', 'knn_mean_Industrial', 'knn_mean_None', 'knn_mean_Rural', 'knn_mean_Sparse Urban', 'knn_mean_Urban Slum', 'knn_mean_Barren Land', 'knn_mean_Coastal', 'knn_mean_Dense Forest', 'knn_mean_Desert', 'knn_mean_Farms', 'knn_mean_Grass Land', 'knn_mean_Hills', 'knn_mean_Lakes', 'knn_mean_None.1', 'knn_mean_River', 'knn_mean_Snow', 'knn_mean_Sparse Forest', 'knn_mean_diff1', 'knn_mean_diff2', 'knn_mean_diff3', 'knn_mean_diff4', 'knn_mean_year_date1', 'knn_mean_year_date2', 'knn_mean_year_date3', 'knn_mean_year_date4', 'knn_mean_year_date5', 'knn_mean_season_date1', 'knn_mean_season_date2', 'knn_mean_season_date3', 'knn_mean_season_date4', 'knn_mean_season_date5', '1th_nn_area', '1th_nn_length', '1th_nn_area/length**2', '1th_nn_elongation', '1th_nn_centroid_x', '1th_nn_height', '1th_nn_width', '1th_nn_nb_points', '1th_nn_centroid_dist', '1th_nn_length/width', '1th_nn_Dense Urban', '1th_nn_Industrial', '1th_nn_None', '1th_nn_Rural', '1th_nn_Sparse Urban', '1th_nn_Urban Slum', '1th_nn_Barren Land', '1th_nn_Coastal', '1th_nn_Dense Forest', '1th_nn_Desert', '1th_nn_Farms', '1th_nn_Grass Land', '1th_nn_Hills', '1th_nn_Lakes', '1th_nn_None.1', '1th_nn_River', '1th_nn_Snow', '1th_nn_Sparse Forest', '1th_nn_diff1', '1th_nn_diff2', '1th_nn_diff3', '1th_nn_diff4', '1th_nn_year_date1', '1th_nn_year_date2', '1th_nn_year_date3', '1th_nn_year_date4', '1th_nn_year_date5', '1th_nn_season_date1', '1th_nn_season_date2', '1th_nn_season_date3', '1th_nn_season_date4', '1th_nn_season_date5']\n"
     ]
    }
   ],
   "source": [
    "print(list(X.columns))"
   ]
  },
  {
   "cell_type": "code",
   "execution_count": 310,
   "metadata": {},
   "outputs": [
    {
     "name": "stdout",
     "output_type": "stream",
     "text": [
      "Fitting...\n",
      "[02:49:13] WARNING: C:/Users/Administrator/workspace/xgboost-win64_release_1.5.1/src/learner.cc:1115: Starting in XGBoost 1.3.0, the default evaluation metric used with the objective 'multi:softprob' was changed from 'merror' to 'mlogloss'. Explicitly set eval_metric if you'd like to restore the old behavior.\n",
      "Train score: 0.764773971025115\n",
      "Test score: 0.7502043181997571\n",
      "\n",
      "[02:49:24] WARNING: C:/Users/Administrator/workspace/xgboost-win64_release_1.5.1/src/learner.cc:1115: Starting in XGBoost 1.3.0, the default evaluation metric used with the objective 'multi:softprob' was changed from 'merror' to 'mlogloss'. Explicitly set eval_metric if you'd like to restore the old behavior.\n",
      "Train score: 0.7801609750131552\n",
      "Test score: 0.7601274175488658\n",
      "\n",
      "[02:49:45] WARNING: C:/Users/Administrator/workspace/xgboost-win64_release_1.5.1/src/learner.cc:1115: Starting in XGBoost 1.3.0, the default evaluation metric used with the objective 'multi:softprob' was changed from 'merror' to 'mlogloss'. Explicitly set eval_metric if you'd like to restore the old behavior.\n",
      "Train score: 0.8035686469447857\n",
      "Test score: 0.7726938901413037\n",
      "\n",
      "[02:50:42] WARNING: C:/Users/Administrator/workspace/xgboost-win64_release_1.5.1/src/learner.cc:1115: Starting in XGBoost 1.3.0, the default evaluation metric used with the objective 'multi:softprob' was changed from 'merror' to 'mlogloss'. Explicitly set eval_metric if you'd like to restore the old behavior.\n",
      "Train score: 0.8361068856058765\n",
      "Test score: 0.7813092492253622\n",
      "\n",
      "[02:52:42] WARNING: C:/Users/Administrator/workspace/xgboost-win64_release_1.5.1/src/learner.cc:1115: Starting in XGBoost 1.3.0, the default evaluation metric used with the objective 'multi:softprob' was changed from 'merror' to 'mlogloss'. Explicitly set eval_metric if you'd like to restore the old behavior.\n",
      "Train score: 0.8708218154528283\n",
      "Test score: 0.7843285822304132\n",
      "\n",
      "[02:56:42] WARNING: C:/Users/Administrator/workspace/xgboost-win64_release_1.5.1/src/learner.cc:1115: Starting in XGBoost 1.3.0, the default evaluation metric used with the objective 'multi:softprob' was changed from 'merror' to 'mlogloss'. Explicitly set eval_metric if you'd like to restore the old behavior.\n",
      "Train score: 0.9174251505492673\n",
      "Test score: 0.784793794396934\n",
      "\n"
     ]
    },
    {
     "data": {
      "image/png": "[encoded data removed]",
      "text/plain": [
       "<Figure size 600x400 with 1 Axes>"
      ]
     },
     "metadata": {},
     "output_type": "display_data"
    }
   ],
   "source": [
    "\n",
    "# xgb = XGBClassifier()\n",
    "\n",
    "X_train, X_test, Y_train, Y_test = train_test_split(X, Y, test_size = 0.2, random_state = 22)\n",
    "\n",
    "print('Fitting...')\n",
    "L_n = [5, 10, 20, 50, 100, 200]\n",
    "L_d = [2, 3, 4, 5, 10]\n",
    "average = 'weighted'\n",
    "L_train_score = list()\n",
    "L_test_score = list()\n",
    "L = list()\n",
    "\n",
    "for n in L_n:\n",
    "        model = RandomForestClassifier(n_estimators=n,\n",
    "                            max_depth=12,\n",
    "                            min_samples_leaf=1,\n",
    "                            min_samples_split=2,\n",
    "                                )\n",
    "        # model = GradientBoostingClassifier(n_estimators=n, \n",
    "        #                         )\n",
    "        model = XGBClassifier( \n",
    "                        n_estimators = n,\n",
    "                #       scale_pos_weight=1,\n",
    "                #       learning_rate=0.01,  \n",
    "                #       colsample_bytree = 0.4,\n",
    "                #       subsample = 0.8,\n",
    "                #       objective='binary:logistic', \n",
    "                #       reg_alpha = 0.3,\n",
    "                        max_depth=8, \n",
    "                #       gamma=10,\n",
    "                        use_label_encoder=False,\n",
    "                      )\n",
    "        \n",
    "        eval_set = [(X_train, Y_train), (X_test, Y_test)]\n",
    "        eval_metric = [\"error\"]\n",
    "        model.fit(X_train, Y_train, \n",
    "                # eval_metric=eval_metric, \n",
    "                # eval_set=eval_set, \n",
    "                # verbose=False\n",
    "                  )\n",
    "        \n",
    "        Y_pred          = model.predict(X_test)\n",
    "        Y_pred_train    = model.predict(X_train)\n",
    "        score_train = f1_score(Y_train, Y_pred_train, average = average)\n",
    "        score_test = f1_score(Y_test, Y_pred, average = average)\n",
    "        L_train_score.append(score_train)\n",
    "        L_test_score.append(score_test)\n",
    "        L.append(n)\n",
    "        print(f\"Train score: {score_train}\")\n",
    "        print(f\"Test score: {score_test}\")\n",
    "        print()\n",
    "        plt.clf()\n",
    "        plt.plot(L, L_train_score, 'r')\n",
    "        plt.plot(L, L_test_score, 'b')\n",
    "        plt.ylim(bottom = 0, top = 1)\n",
    "\n"
   ]
  },
  {
   "cell_type": "code",
   "execution_count": 312,
   "metadata": {},
   "outputs": [
    {
     "name": "stdout",
     "output_type": "stream",
     "text": [
      "Importance of change_status_date5: 15.199999511241913%\n",
      "Importance of change_status_date1: 6.1000000685453415%\n",
      "Importance of knn_mean_area/length**2: 3.099999949336052%\n",
      "Importance of centroid_y: 2.500000037252903%\n",
      "Importance of area/length**2: 2.199999988079071%\n",
      "Importance of change_status_date2: 2.0999999716877937%\n",
      "Importance of centroid_dist: 1.899999938905239%\n",
      "Importance of knn_mean_area: 1.7000000923871994%\n",
      "Importance of knn_mean_centroid_x: 1.3000000268220901%\n",
      "Importance of change_status_date4: 1.3000000268220901%\n",
      "Importance of year_date2: 1.3000000268220901%\n",
      "Importance of nb_points: 1.2000000104308128%\n",
      "Importance of 1th_nn_centroid_x: 1.2000000104308128%\n",
      "Importance of length: 1.2000000104308128%\n",
      "Importance of change_status_date3: 1.0999999940395355%\n",
      "Importance of height: 1.0999999940395355%\n",
      "Importance of knn_mean_Industrial: 1.0999999940395355%\n",
      "Importance of 1th_nn_year_date3: 1.0999999940395355%\n",
      "Importance of knn_mean_Desert: 0.8999999612569809%\n",
      "Importance of 1th_nn_year_date2: 0.8999999612569809%\n",
      "Importance of diff4: 0.8999999612569809%\n",
      "Importance of 1th_nn_year_date1: 0.8999999612569809%\n",
      "Importance of 1th_nn_diff3: 0.8999999612569809%\n",
      "Importance of knn_mean_diff3: 0.800000037997961%\n",
      "Importance of knn_mean_diff4: 0.800000037997961%\n",
      "Importance of year_date1: 0.800000037997961%\n",
      "Importance of centroid_x: 0.800000037997961%\n",
      "Importance of knn_mean_year_date1: 0.800000037997961%\n",
      "Importance of knn_mean_diff2: 0.800000037997961%\n",
      "Importance of knn_mean_height: 0.800000037997961%\n",
      "Importance of diff3: 0.800000037997961%\n",
      "Importance of knn_mean_year_date4: 0.800000037997961%\n",
      "Importance of 1th_nn_diff1: 0.7000000216066837%\n",
      "Importance of 1th_nn_diff2: 0.7000000216066837%\n",
      "Importance of Hills: 0.7000000216066837%\n",
      "Importance of 1th_nn_diff4: 0.7000000216066837%\n",
      "Importance of knn_mean_year_date3: 0.7000000216066837%\n",
      "Importance of diff1: 0.7000000216066837%\n",
      "Importance of knn_mean_nb_points: 0.7000000216066837%\n",
      "Importance of knn_mean_diff1: 0.7000000216066837%\n",
      "Importance of 1th_nn_year_date4: 0.7000000216066837%\n",
      "Importance of Coastal: 0.7000000216066837%\n",
      "Importance of knn_mean_centroid_dist: 0.7000000216066837%\n",
      "Importance of 1th_nn_year_date5: 0.7000000216066837%\n",
      "Importance of knn_mean_year_date5: 0.7000000216066837%\n",
      "Importance of 1th_nn_Desert: 0.6000000052154064%\n",
      "Importance of knn_mean_year_date2: 0.6000000052154064%\n",
      "Importance of area: 0.6000000052154064%\n",
      "Importance of knn_mean_width: 0.6000000052154064%\n",
      "Importance of diff2: 0.6000000052154064%\n",
      "Importance of is_convex: 0.6000000052154064%\n",
      "Importance of knn_mean_Urban Slum: 0.6000000052154064%\n",
      "Importance of knn_mean_Coastal: 0.6000000052154064%\n",
      "Importance of width: 0.6000000052154064%\n",
      "Importance of 1th_nn_Urban Slum: 0.6000000052154064%\n",
      "Importance of year_date5: 0.4999999888241291%\n",
      "Importance of 1th_nn_None.1: 0.4999999888241291%\n",
      "Importance of year_date4: 0.4999999888241291%\n",
      "Importance of knn_mean_Hills: 0.4999999888241291%\n",
      "Importance of Desert: 0.4999999888241291%\n",
      "Importance of knn_mean_length/width: 0.4999999888241291%\n",
      "Importance of knn_mean_Dense Urban: 0.4999999888241291%\n",
      "Importance of 1th_nn_Farms: 0.4999999888241291%\n",
      "Importance of 1th_nn_height: 0.4999999888241291%\n",
      "Importance of diff_area: 0.4999999888241291%\n",
      "Importance of knn_mean_Rural: 0.4999999888241291%\n",
      "Importance of 1th_nn_centroid_dist: 0.4999999888241291%\n",
      "Importance of 1th_nn_Dense Urban: 0.4999999888241291%\n",
      "Importance of knn_mean_length: 0.4999999888241291%\n",
      "Importance of 1th_nn_length: 0.4999999888241291%\n",
      "Importance of knn_mean_Farms: 0.4999999888241291%\n",
      "Importance of 1th_nn_area: 0.4999999888241291%\n",
      "Importance of 1th_nn_width: 0.4999999888241291%\n",
      "Importance of knn_mean_None.1: 0.4999999888241291%\n",
      "Importance of 1th_nn_Dense Forest: 0.4999999888241291%\n",
      "Importance of knn_mean_Sparse Forest: 0.4999999888241291%\n",
      "Importance of Dense Urban: 0.4000000189989805%\n",
      "Importance of knn_mean_Lakes: 0.4000000189989805%\n",
      "Importance of knn_mean_None: 0.4000000189989805%\n",
      "Importance of knn_mean_River: 0.4000000189989805%\n",
      "Importance of None.1: 0.4000000189989805%\n",
      "Importance of Urban Slum: 0.4000000189989805%\n",
      "Importance of knn_mean_elongation: 0.4000000189989805%\n",
      "Importance of 1th_nn_Sparse Forest: 0.4000000189989805%\n",
      "Importance of Farms: 0.4000000189989805%\n",
      "Importance of 1th_nn_Hills: 0.4000000189989805%\n",
      "Importance of year_date3: 0.4000000189989805%\n",
      "Importance of Rural: 0.4000000189989805%\n",
      "Importance of 1th_nn_River: 0.4000000189989805%\n",
      "Importance of knn_mean_Dense Forest: 0.4000000189989805%\n",
      "Importance of knn_mean_Barren Land: 0.4000000189989805%\n",
      "Importance of River: 0.4000000189989805%\n",
      "Importance of 1th_nn_area/length**2: 0.4000000189989805%\n",
      "Importance of 1th_nn_Rural: 0.4000000189989805%\n",
      "Importance of 1th_nn_Lakes: 0.4000000189989805%\n",
      "Importance of Dense Forest: 0.4000000189989805%\n",
      "Importance of knn_mean_Sparse Urban: 0.4000000189989805%\n",
      "Importance of knn_mean_Grass Land: 0.4000000189989805%\n",
      "Importance of Lakes: 0.4000000189989805%\n",
      "Importance of 1th_nn_None: 0.4000000189989805%\n",
      "Importance of 1th_nn_Grass Land: 0.4000000189989805%\n",
      "Importance of 1th_nn_Sparse Urban: 0.4000000189989805%\n",
      "Importance of Industrial: 0.4000000189989805%\n",
      "Importance of 1th_nn_elongation: 0.4000000189989805%\n",
      "Importance of 1th_nn_Industrial: 0.4000000189989805%\n",
      "Importance of elongation: 0.4000000189989805%\n",
      "Importance of length/width: 0.4000000189989805%\n",
      "Importance of 1th_nn_length/width: 0.4000000189989805%\n",
      "Importance of None: 0.4000000189989805%\n",
      "Importance of 1th_nn_nb_points: 0.4000000189989805%\n",
      "Importance of Barren Land: 0.4000000189989805%\n",
      "Importance of Grass Land: 0.3000000026077032%\n",
      "Importance of 1th_nn_Coastal: 0.3000000026077032%\n",
      "Importance of Sparse Urban: 0.3000000026077032%\n",
      "Importance of Sparse Forest: 0.3000000026077032%\n",
      "Importance of 1th_nn_Barren Land: 0.3000000026077032%\n",
      "Importance of knn_mean_Snow: 0.3000000026077032%\n",
      "Importance of Snow: 0.20000000949949026%\n",
      "Importance of season_date1: 0.0%\n",
      "Importance of season_date2: 0.0%\n",
      "Importance of season_date3: 0.0%\n",
      "Importance of season_date4: 0.0%\n",
      "Importance of season_date5: 0.0%\n",
      "Importance of knn_mean_season_date1: 0.0%\n",
      "Importance of knn_mean_season_date2: 0.0%\n",
      "Importance of knn_mean_season_date3: 0.0%\n",
      "Importance of knn_mean_season_date4: 0.0%\n",
      "Importance of knn_mean_season_date5: 0.0%\n",
      "Importance of 1th_nn_Snow: 0.0%\n",
      "Importance of 1th_nn_season_date1: 0.0%\n",
      "Importance of 1th_nn_season_date2: 0.0%\n",
      "Importance of 1th_nn_season_date3: 0.0%\n",
      "Importance of 1th_nn_season_date4: 0.0%\n",
      "Importance of 1th_nn_season_date5: 0.0%\n"
     ]
    }
   ],
   "source": [
    "importances = model.feature_importances_\n",
    "for feature, imp in sorted(zip(X_train.columns, importances), key = lambda x: -x[1]):\n",
    "    print(f'Importance of {feature}: {100*round(imp, 3)}%')"
   ]
  },
  {
   "cell_type": "code",
   "execution_count": 118,
   "metadata": {},
   "outputs": [],
   "source": [
    "\n",
    "def compress_outliers_on_test(X):\n",
    "    '''Replace outliers geographically data points of test (plot test data to see what it means) to an area where they could be i guess.\n",
    "    '''\n",
    "    X[46053:47903]['centroid_y'] = (X[46053:47903]['centroid_y'] - 60) / (60/0.03) + 30\n",
    "    return X"
   ]
  },
  {
   "cell_type": "code",
   "execution_count": 319,
   "metadata": {},
   "outputs": [],
   "source": [
    "Y_pred2submit = model.predict(X_target)\n",
    "\n",
    "# Save results to submission file\n",
    "pred_df = pd.DataFrame(Y_pred2submit, columns=['change_type'])\n",
    "pred_df.to_csv(\"submission.csv\", index=True, index_label='Id')"
   ]
  },
  {
   "cell_type": "code",
   "execution_count": 33,
   "metadata": {},
   "outputs": [],
   "source": [
    "test_df_origin = gpd.read_file(\"test.geojson\", index_col=0) "
   ]
  },
  {
   "cell_type": "code",
   "execution_count": 119,
   "metadata": {},
   "outputs": [
    {
     "data": {
      "image/png": "[encoded data removed]",
      "text/plain": [
       "<Figure size 600x400 with 1 Axes>"
      ]
     },
     "metadata": {},
     "output_type": "display_data"
    }
   ],
   "source": [
    "plot_cluster(X)"
   ]
  }
 ],
 "metadata": {
  "interpreter": {
   "hash": "7e016cbfee4a4a9f8ad68d1216e5f03d3845a8636147ff93c078e6684dcfe1d3"
  },
  "kernelspec": {
   "display_name": "Python 3.9.7 64-bit",
   "language": "python",
   "name": "python3"
  },
  "language_info": {
   "codemirror_mode": {
    "name": "ipython",
    "version": 3
   },
   "file_extension": ".py",
   "mimetype": "text/x-python",
   "name": "python",
   "nbconvert_exporter": "python",
   "pygments_lexer": "ipython3",
   "version": "3.9.7"
  },
  "orig_nbformat": 4
 },
 "nbformat": 4,
 "nbformat_minor": 2
}
