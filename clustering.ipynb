{
 "cells": [
  {
   "cell_type": "code",
   "execution_count": 2,
   "metadata": {},
   "outputs": [],
   "source": [
    "import pandas as pd\n",
    "import xgboost\n",
    "from sklearn.preprocessing import LabelEncoder\n",
    "import numpy as np\n",
    "from sklearn import model_selection\n",
    "from sklearn.metrics import roc_auc_score\n",
    "from sklearn import preprocessing\n",
    "from sklearn.metrics import classification_report\n",
    "from sklearn.model_selection import train_test_split\n",
    "from sklearn.model_selection import StratifiedKFold\n",
    "from sklearn.model_selection import cross_val_score\n",
    "from sklearn.metrics import accuracy_score\n",
    "from sklearn.ensemble import RandomForestClassifier"
   ]
  },
  {
   "cell_type": "code",
   "execution_count": 3,
   "metadata": {},
   "outputs": [],
   "source": [
    "train_df = pd.read_csv('train_df.csv')\n",
    "test_df = pd.read_csv('test_df.csv')"
   ]
  },
  {
   "cell_type": "code",
   "execution_count": 4,
   "metadata": {},
   "outputs": [
    {
     "data": {
      "text/plain": [
       "Index(['Unnamed: 0', 'index', 'change_type', 'change_status_date1',\n",
       "       'change_status_date2', 'change_status_date3', 'change_status_date4',\n",
       "       'change_status_date5', 'diff1', 'diff2', 'diff3', 'diff4',\n",
       "       'weekday_date1', 'month_date1', 'year_date1', 'season_date1',\n",
       "       'weekday_date2', 'month_date2', 'year_date2', 'season_date2',\n",
       "       'weekday_date3', 'month_date3', 'year_date3', 'season_date3',\n",
       "       'weekday_date4', 'month_date4', 'year_date4', 'season_date4',\n",
       "       'weekday_date5', 'month_date5', 'year_date5', 'season_date5', 'area',\n",
       "       'length', 'boxcox_area', 'boxcox_length', 'area/length**2',\n",
       "       'elongation', 'minx', 'miny', 'maxx', 'maxy', 'centroid_x',\n",
       "       'centroid_y', 'height', 'width', 'nb_points', 'diff_area', 'is_convex',\n",
       "       'centroid_dist', 'length/width', 'Dense Urban', 'Industrial', 'None',\n",
       "       'Rural', 'Sparse Urban', 'Urban Slum', 'Barren Land', 'Coastal',\n",
       "       'Dense Forest', 'Desert', 'Farms', 'Grass Land', 'Hills', 'Lakes',\n",
       "       'None.1', 'River', 'Snow', 'Sparse Forest'],\n",
       "      dtype='object')"
      ]
     },
     "execution_count": 4,
     "metadata": {},
     "output_type": "execute_result"
    }
   ],
   "source": [
    "train_df.columns"
   ]
  },
  {
   "cell_type": "code",
   "execution_count": 17,
   "metadata": {},
   "outputs": [
    {
     "data": {
      "text/plain": [
       "0    0.004642\n",
       "1    0.002188\n",
       "2    0.002192\n",
       "3    0.002167\n",
       "4    0.002213\n",
       "Name: centroid_dist, dtype: float64"
      ]
     },
     "execution_count": 17,
     "metadata": {},
     "output_type": "execute_result"
    }
   ],
   "source": []
  }
 ],
 "metadata": {
  "interpreter": {
   "hash": "7e016cbfee4a4a9f8ad68d1216e5f03d3845a8636147ff93c078e6684dcfe1d3"
  },
  "kernelspec": {
   "display_name": "Python 3.9.7 64-bit",
   "language": "python",
   "name": "python3"
  },
  "language_info": {
   "codemirror_mode": {
    "name": "ipython",
    "version": 3
   },
   "file_extension": ".py",
   "mimetype": "text/x-python",
   "name": "python",
   "nbconvert_exporter": "python",
   "pygments_lexer": "ipython3",
   "version": "3.9.7"
  },
  "orig_nbformat": 4
 },
 "nbformat": 4,
 "nbformat_minor": 2
}
