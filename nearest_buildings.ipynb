{
 "cells": [
  {
   "cell_type": "code",
   "execution_count": 120,
   "metadata": {},
   "outputs": [],
   "source": [
    "\n",
    "import pandas as pd\n",
    "import geopandas as gpd\n",
    "import xgboost\n",
    "import sys\n",
    "from sklearn.preprocessing import LabelEncoder\n",
    "import numpy as np\n",
    "from math import * \n",
    "from tqdm import tqdm\n",
    "from sklearn import model_selection\n",
    "from sklearn.metrics import roc_auc_score\n",
    "from sklearn import preprocessing\n",
    "from sklearn.metrics import classification_report\n",
    "from sklearn.model_selection import train_test_split\n",
    "from sklearn.model_selection import StratifiedKFold\n",
    "from sklearn.model_selection import cross_val_score\n",
    "from sklearn.metrics import accuracy_score\n",
    "from sklearn.ensemble import RandomForestClassifier\n",
    "\n",
    "from sklearn.cluster import DBSCAN, OPTICS\n",
    "\n",
    "import json\n",
    "import matplotlib.pyplot as plt\n",
    "import matplotlib as mpl\n",
    "mpl.rcParams['figure.dpi'] = 250\n",
    "plt.style.use('dark_background')\n",
    "\n",
    "from utils import plot_cluster, load_list, save_list"
   ]
  },
  {
   "cell_type": "code",
   "execution_count": 18,
   "metadata": {},
   "outputs": [],
   "source": [
    "train_df = pd.read_csv('train_df.csv')\n",
    "test_df = pd.read_csv('test_df.csv')"
   ]
  },
  {
   "cell_type": "code",
   "execution_count": 3,
   "metadata": {},
   "outputs": [],
   "source": [
    "train_df_origin = gpd.read_file(\"train.geojson\", index_col=0)\n",
    "test_df_origin = gpd.read_file(\"test.geojson\", index_col=0)"
   ]
  },
  {
   "cell_type": "code",
   "execution_count": 149,
   "metadata": {},
   "outputs": [],
   "source": [
    "#Keys are columns that will be augmented. Values tell us whether they are numerical or not (categorical).\n",
    "cols_is_num = {'area':True,\n",
    "            'length':True, \n",
    "            'area/length**2':True,\n",
    "            'elongation':True, \n",
    "            'centroid_x':True,      #Irrelevant, let to see if augmentation works (knn_centroid_x should be about same value as centroid_x)\n",
    "            'height':True, \n",
    "            'width':True, \n",
    "            'nb_points':True, \n",
    "            'centroid_dist':True, \n",
    "            'length/width':True, \n",
    "            'Dense Urban':True, \n",
    "            'Industrial':True, \n",
    "            'None':True,\n",
    "            'Rural':True, \n",
    "            'Sparse Urban':True, \n",
    "            'Urban Slum':True, \n",
    "            'Barren Land':True, \n",
    "            'Coastal':True,\n",
    "            'Dense Forest':True, \n",
    "            'Desert':True, \n",
    "            'Farms':True, \n",
    "            'Grass Land':True, \n",
    "            'Hills':True, \n",
    "            'Lakes':True,\n",
    "            'None.1':True, \n",
    "            'River':True, \n",
    "            'Snow':True, \n",
    "            'Sparse Forest':True}"
   ]
  },
  {
   "cell_type": "code",
   "execution_count": 142,
   "metadata": {},
   "outputs": [
    {
     "name": "stderr",
     "output_type": "stream",
     "text": [
      "100%|██████████| 309736/309736 [47:00<00:00, 109.81it/s]   \n"
     ]
    }
   ],
   "source": [
    "from sklearn.neighbors import NearestNeighbors\n",
    "\n",
    "def find_knn(i, knn_object, df_aug):\n",
    "    '''Return a dataframe composed of the k nearest neighbors in df_aug of the i-th data of df_aug.\n",
    "    i: index of data\n",
    "    knn_object : a NearestNeighbors object fitted on df_aug\n",
    "    df_aug : dataframe augmented\n",
    "    '''\n",
    "    arr = np.array(df_aug[['centroid_x', 'centroid_y']].iloc[i])\n",
    "    indices = knn_object.kneighbors(arr.reshape(-1,2), return_distance = False)[0, 1:]      #We return the k+1 nearest neighbors, except the first (the data point himself)\n",
    "    return df_aug.iloc[indices]\n",
    "    \n",
    "\n",
    "def nearest_buildings_augmentation_mean(df_aug, k = 10):\n",
    "    '''Return a dataframe whose columns are mean or most frequent value of k nearest neighbors features. The columns thus augmented are those in 'cols_is_num'.\n",
    "    df_aug : an already augmented dataframe\n",
    "    k : the number of nearest neighbors\n",
    "    '''\n",
    "    df = list()\n",
    "    knn_object = NearestNeighbors(n_neighbors=k+1).fit(np.array(df_aug[['centroid_x', 'centroid_y']]))\n",
    "        \n",
    "    for i in tqdm(range(len(df_aug))):\n",
    "        dic = dict()\n",
    "        df_k_nearest_neightbors = find_knn(i, knn_object, df_aug)      #Find the k nearest neighbors.\n",
    "\n",
    "        for col, is_num in cols_is_num.items():\n",
    "            if is_num:\n",
    "                dic[f\"knn_mean_{col}\"] = df_k_nearest_neightbors[col].mean()                     #Return mean \n",
    "            else:\n",
    "                dic[f\"knn_{col}\"] = df_k_nearest_neightbors[col].value_counts().argmax()    #Not sure if it works\n",
    "        df.append(dic)\n",
    "    return pd.DataFrame(df)\n",
    "\n",
    "df = nearest_buildings_augmentation_mean(train_df, k = 10)\n",
    "df.to_csv('train_df_knn_mean.csv')\n",
    "df.head()\n"
   ]
  },
  {
   "cell_type": "code",
   "execution_count": null,
   "metadata": {},
   "outputs": [],
   "source": [
    "# def nearest_buildings_augmentation_concatenate(df_aug, k = 1):\n",
    "#     '''Return a dataframe whose columns are mean or most frequent value of k nearest neighbors features. The columns thus augmented are those in 'cols_is_num'.\n",
    "#     df_aug : an already augmented dataframe\n",
    "#     k : the number of nearest neighbors\n",
    "#     '''\n",
    "#     df = list()\n",
    "#     knn_object = NearestNeighbors(n_neighbors=k+1).fit(np.array(df_aug[['centroid_x', 'centroid_y']]))\n",
    "        \n",
    "#     for i in tqdm(range(len(df_aug))):\n",
    "#         dic = dict()\n",
    "#         arr = np.array(df_aug[['centroid_x', 'centroid_y']].iloc[i])\n",
    "#         indices = knn_object.kneighbors(arr.reshape(-1,2), return_distance = False)[0, 1:]\n",
    "#         print(indices)\n",
    "#         print(df_aug.iloc[indices][cols_is_num.keys()])\n",
    "        \n",
    "\n",
    "#         for col in cols_is_num.keys():\n",
    "#             for n in range(1,k+1):\n",
    "#                 dic[f\"{n}th_nn_{col}\"] = None                  #Return mean \n",
    "#                 raise\n",
    "#         df.append(dic)\n",
    "#     return pd.DataFrame(df)\n",
    "\n",
    "# df = nearest_buildings_augmentation_concatenate(train_df[:100], k = 2)\n",
    "# df.to_csv('train_df_knn_concat.csv')\n",
    "# df.head()"
   ]
  }
 ],
 "metadata": {
  "interpreter": {
   "hash": "7e016cbfee4a4a9f8ad68d1216e5f03d3845a8636147ff93c078e6684dcfe1d3"
  },
  "kernelspec": {
   "display_name": "Python 3.9.7 64-bit",
   "language": "python",
   "name": "python3"
  },
  "language_info": {
   "codemirror_mode": {
    "name": "ipython",
    "version": 3
   },
   "file_extension": ".py",
   "mimetype": "text/x-python",
   "name": "python",
   "nbconvert_exporter": "python",
   "pygments_lexer": "ipython3",
   "version": "3.9.7"
  },
  "orig_nbformat": 4
 },
 "nbformat": 4,
 "nbformat_minor": 2
}
