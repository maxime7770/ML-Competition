{
 "cells": [
  {
   "cell_type": "code",
   "execution_count": 1,
   "metadata": {},
   "outputs": [],
   "source": [
    "from sklearn.utils import class_weight\n",
    "from xgboost import XGBClassifier, cv\n",
    "import geopandas as gpd\n",
    "import pandas as pd\n",
    "from sklearn.preprocessing import LabelEncoder\n",
    "import numpy as np\n",
    "from sklearn import model_selection\n",
    "from sklearn.metrics import roc_auc_score\n",
    "from sklearn import preprocessing\n",
    "from sklearn.metrics import classification_report\n",
    "from sklearn.model_selection import train_test_split\n",
    "from sklearn.model_selection import StratifiedKFold\n",
    "from sklearn.model_selection import cross_val_score\n",
    "from sklearn.model_selection import cross_val_predict\n",
    "from sklearn.model_selection import GridSearchCV\n",
    "\n",
    "from sklearn.metrics import accuracy_score\n",
    "from sklearn.metrics import f1_score\n",
    "import xgboost\n",
    "from joblib import dump, load\n",
    "from datetime import datetime\n",
    "import spatial_efd"
   ]
  },
  {
   "cell_type": "code",
   "execution_count": 2,
   "metadata": {},
   "outputs": [],
   "source": [
    "train_df = gpd.read_file(\"train.geojson\", index_col=0)\n",
    "test_df = gpd.read_file(\"test.geojson\", index_col=0)"
   ]
  },
  {
   "cell_type": "code",
   "execution_count": 3,
   "metadata": {},
   "outputs": [],
   "source": [
    "polygons=train_df['geometry']"
   ]
  },
  {
   "cell_type": "code",
   "execution_count": 8,
   "metadata": {},
   "outputs": [],
   "source": [
    "# on train\n",
    "\n",
    "def elliptic_coeffs_train(harmonics):\n",
    "    l=list()\n",
    "    l2=list()\n",
    "    polygon=train_df['geometry']\n",
    "    for i in range(len(train_df)):\n",
    "        h=harmonics\n",
    "        polygon_i=polygon.iloc[i]\n",
    "        coords=list(polygon_i.boundary.coords)\n",
    "        x=[z[0] for z in coords]\n",
    "        y=[z[1] for z in coords]\n",
    "        coeffs = spatial_efd.CalculateEFD(x, y,h)\n",
    "        coeffs, _ = spatial_efd.normalize_efd(coeffs, size_invariant=True)\n",
    "        coeffs=spatial_efd.AverageCoefficients(coeffs)[0]\n",
    "        nyquist = spatial_efd.Nyquist(x)\n",
    "        tmpcoeffs = spatial_efd.CalculateEFD(x, y, nyquist)\n",
    "        fourier_power=spatial_efd.FourierPower(tmpcoeffs, x,0.99999)\n",
    "        l2.append(fourier_power)\n",
    "        l.append(coeffs)\n",
    "    return np.array(l),l2\n",
    "\n",
    "harmonics=3\n",
    "df=list()\n",
    "coeffs=elliptic_coeffs_train(harmonics=harmonics)[0]\n",
    "powers=elliptic_coeffs_train(harmonics=harmonics)[1]\n",
    "dic_pow={}\n",
    "for k in range(len(train_df)):\n",
    "    dic={}\n",
    "    for j in range(4):\n",
    "        dic[f\"coeff{j+1}\"]=coeffs[k,j]\n",
    "    dic[f\"power\"]=int(powers[k]) if powers[k]!=None else None\n",
    "    df.append(dic)\n",
    "    \n",
    "\n",
    "df=pd.DataFrame(df)\n",
    "\n",
    "df.to_csv(\"fourier_coefficients_train.csv\")\n",
    "\n"
   ]
  },
  {
   "cell_type": "code",
   "execution_count": null,
   "metadata": {},
   "outputs": [],
   "source": [
    "# on test \n",
    "\n",
    "def elliptic_coeffs_test(harmonics):\n",
    "    l=list()\n",
    "    l2=list()\n",
    "    polygon=test_df['geometry']\n",
    "    for i in range(len(test_df)):\n",
    "        h=harmonics\n",
    "        polygon_i=polygon.iloc[i]\n",
    "        coords=list(polygon_i.boundary.coords)\n",
    "        x=[z[0] for z in coords]\n",
    "        y=[z[1] for z in coords]\n",
    "        coeffs = spatial_efd.CalculateEFD(x, y,h)\n",
    "        coeffs, _ = spatial_efd.normalize_efd(coeffs, size_invariant=True)\n",
    "        coeffs=spatial_efd.AverageCoefficients(coeffs)[0]\n",
    "        nyquist = spatial_efd.Nyquist(x)\n",
    "        tmpcoeffs = spatial_efd.CalculateEFD(x, y, nyquist)\n",
    "        fourier_power=spatial_efd.FourierPower(tmpcoeffs, x,0.99999)\n",
    "        l2.append(fourier_power)\n",
    "        l.append(coeffs)\n",
    "    return np.array(l),l2\n",
    "\n",
    "harmonics=3\n",
    "df=list()\n",
    "coeffs=elliptic_coeffs_test(harmonics=harmonics)[0]\n",
    "powers=elliptic_coeffs_test(harmonics=harmonics)[1]\n",
    "dic_pow={}\n",
    "for k in range(len(test_df)):\n",
    "    dic={}\n",
    "    for j in range(4):\n",
    "        dic[f\"coeff{j+1}\"]=coeffs[k,j]\n",
    "    dic[f\"power\"]=int(powers[k]) if powers[k]!=None else None\n",
    "    df.append(dic)\n",
    "    \n",
    "\n",
    "df=pd.DataFrame(df)\n",
    "\n",
    "df.to_csv(\"fourier_coefficients_test.csv\")"
   ]
  }
 ],
 "metadata": {
  "interpreter": {
   "hash": "20a7c71c4fb3c8fb83f4d3df636db960b7a7bb31316d81e0785e5cd14ad32ba2"
  },
  "kernelspec": {
   "display_name": "Python 3.8.12 64-bit ('py38gpu': conda)",
   "language": "python",
   "name": "python3"
  },
  "language_info": {
   "codemirror_mode": {
    "name": "ipython",
    "version": 3
   },
   "file_extension": ".py",
   "mimetype": "text/x-python",
   "name": "python",
   "nbconvert_exporter": "python",
   "pygments_lexer": "ipython3",
   "version": "3.8.12"
  },
  "orig_nbformat": 4
 },
 "nbformat": 4,
 "nbformat_minor": 2
}
